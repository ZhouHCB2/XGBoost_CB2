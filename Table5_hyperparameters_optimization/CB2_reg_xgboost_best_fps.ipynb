{
 "cells": [
  {
   "cell_type": "code",
   "execution_count": 1,
   "metadata": {},
   "outputs": [],
   "source": [
    "from sklearn.metrics import roc_auc_score, precision_recall_curve\n",
    "from sklearn.metrics import auc as calculate_auc\n",
    "from sklearn.metrics import mean_squared_error\n",
    "from sklearn.metrics import accuracy_score\n",
    "from tqdm import tqdm\n",
    "from sklearn.utils import shuffle \n",
    "from joblib import load, dump\n",
    "import numpy as np\n",
    "import pandas as pd\n",
    "import os,sys,json\n",
    "from argparse import ArgumentParser\n",
    "from scipy.stats.stats import pearsonr\n",
    "import time\n",
    "import xgboost"
   ]
  },
  {
   "cell_type": "code",
   "execution_count": 2,
   "metadata": {},
   "outputs": [],
   "source": [
    "def rmse(y_true, y_pred):\n",
    "\tmse = mean_squared_error(y_true, y_pred)\n",
    "\trmse = np.sqrt(mse)  \n",
    "\treturn rmse"
   ]
  },
  {
   "cell_type": "markdown",
   "metadata": {},
   "source": [
    "# Load y"
   ]
  },
  {
   "cell_type": "code",
   "execution_count": 3,
   "metadata": {},
   "outputs": [],
   "source": [
    "df=pd.read_csv('CB2_Chembl_R6227.csv')"
   ]
  },
  {
   "cell_type": "code",
   "execution_count": 4,
   "metadata": {},
   "outputs": [
    {
     "data": {
      "text/html": [
       "<div>\n",
       "<style scoped>\n",
       "    .dataframe tbody tr th:only-of-type {\n",
       "        vertical-align: middle;\n",
       "    }\n",
       "\n",
       "    .dataframe tbody tr th {\n",
       "        vertical-align: top;\n",
       "    }\n",
       "\n",
       "    .dataframe thead th {\n",
       "        text-align: right;\n",
       "    }\n",
       "</style>\n",
       "<table border=\"1\" class=\"dataframe\">\n",
       "  <thead>\n",
       "    <tr style=\"text-align: right;\">\n",
       "      <th></th>\n",
       "      <th>smiles</th>\n",
       "      <th>pValue</th>\n",
       "    </tr>\n",
       "  </thead>\n",
       "  <tbody>\n",
       "    <tr>\n",
       "      <th>0</th>\n",
       "      <td>CCCCCOc1c(OC)ccc2cc(C(=O)NCCc3ccncc3)c(=O)[nH]c12</td>\n",
       "      <td>11.00</td>\n",
       "    </tr>\n",
       "    <tr>\n",
       "      <th>1</th>\n",
       "      <td>CCCCCc1cc2cc(C(=O)OC)c(=O)[nH]c2c(O)c1OC</td>\n",
       "      <td>10.85</td>\n",
       "    </tr>\n",
       "    <tr>\n",
       "      <th>2</th>\n",
       "      <td>CCCCCOc1c(OC)ccc2cc(C(=O)NCCc3ccc(F)cc3)c(=O)[...</td>\n",
       "      <td>10.72</td>\n",
       "    </tr>\n",
       "    <tr>\n",
       "      <th>3</th>\n",
       "      <td>CCOc1c(OC)ccc2cc(C(=O)NCCc3ccncc3)c(=O)[nH]c12</td>\n",
       "      <td>10.70</td>\n",
       "    </tr>\n",
       "    <tr>\n",
       "      <th>4</th>\n",
       "      <td>CCCCCOc1c(OC)ccc2cc(C(=O)NCCc3ccc(F)cc3)c(=O)n...</td>\n",
       "      <td>10.68</td>\n",
       "    </tr>\n",
       "  </tbody>\n",
       "</table>\n",
       "</div>"
      ],
      "text/plain": [
       "                                              smiles  pValue\n",
       "0  CCCCCOc1c(OC)ccc2cc(C(=O)NCCc3ccncc3)c(=O)[nH]c12   11.00\n",
       "1           CCCCCc1cc2cc(C(=O)OC)c(=O)[nH]c2c(O)c1OC   10.85\n",
       "2  CCCCCOc1c(OC)ccc2cc(C(=O)NCCc3ccc(F)cc3)c(=O)[...   10.72\n",
       "3     CCOc1c(OC)ccc2cc(C(=O)NCCc3ccncc3)c(=O)[nH]c12   10.70\n",
       "4  CCCCCOc1c(OC)ccc2cc(C(=O)NCCc3ccc(F)cc3)c(=O)n...   10.68"
      ]
     },
     "execution_count": 4,
     "metadata": {},
     "output_type": "execute_result"
    }
   ],
   "source": [
    "df.head()"
   ]
  },
  {
   "cell_type": "code",
   "execution_count": 5,
   "metadata": {},
   "outputs": [],
   "source": [
    "Y0 = df['PActivity'].astype('float').values"
   ]
  },
  {
   "cell_type": "code",
   "execution_count": 6,
   "metadata": {},
   "outputs": [
    {
     "data": {
      "text/plain": [
       "array([11.  , 10.85, 10.72, ...,  4.  ,  4.  ,  4.  ])"
      ]
     },
     "execution_count": 6,
     "metadata": {},
     "output_type": "execute_result"
    }
   ],
   "source": [
    "Y0"
   ]
  },
  {
   "cell_type": "code",
   "execution_count": 8,
   "metadata": {},
   "outputs": [
    {
     "data": {
      "text/plain": [
       "6227"
      ]
     },
     "execution_count": 8,
     "metadata": {},
     "output_type": "execute_result"
    }
   ],
   "source": [
    "len(Y0)"
   ]
  },
  {
   "cell_type": "markdown",
   "metadata": {},
   "source": [
    "# Load feats, i.e. X"
   ]
  },
  {
   "cell_type": "code",
   "execution_count": 9,
   "metadata": {},
   "outputs": [],
   "source": [
    "X0=pd.read_csv('AvalonFP_AtomPairFP_RDkitFP_MorganFP.csv')"
   ]
  },
  {
   "cell_type": "code",
   "execution_count": 10,
   "metadata": {},
   "outputs": [
    {
     "data": {
      "text/html": [
       "<div>\n",
       "<style scoped>\n",
       "    .dataframe tbody tr th:only-of-type {\n",
       "        vertical-align: middle;\n",
       "    }\n",
       "\n",
       "    .dataframe tbody tr th {\n",
       "        vertical-align: top;\n",
       "    }\n",
       "\n",
       "    .dataframe thead th {\n",
       "        text-align: right;\n",
       "    }\n",
       "</style>\n",
       "<table border=\"1\" class=\"dataframe\">\n",
       "  <thead>\n",
       "    <tr style=\"text-align: right;\">\n",
       "      <th></th>\n",
       "      <th>AvalonFP0</th>\n",
       "      <th>AvalonFP1</th>\n",
       "      <th>AvalonFP2</th>\n",
       "      <th>AvalonFP3</th>\n",
       "      <th>AvalonFP4</th>\n",
       "      <th>AvalonFP5</th>\n",
       "      <th>AvalonFP6</th>\n",
       "      <th>AvalonFP7</th>\n",
       "      <th>AvalonFP8</th>\n",
       "      <th>AvalonFP9</th>\n",
       "      <th>...</th>\n",
       "      <th>MorganFP2038</th>\n",
       "      <th>MorganFP2039</th>\n",
       "      <th>MorganFP2040</th>\n",
       "      <th>MorganFP2041</th>\n",
       "      <th>MorganFP2042</th>\n",
       "      <th>MorganFP2043</th>\n",
       "      <th>MorganFP2044</th>\n",
       "      <th>MorganFP2045</th>\n",
       "      <th>MorganFP2046</th>\n",
       "      <th>MorganFP2047</th>\n",
       "    </tr>\n",
       "  </thead>\n",
       "  <tbody>\n",
       "    <tr>\n",
       "      <th>0</th>\n",
       "      <td>0</td>\n",
       "      <td>0</td>\n",
       "      <td>0</td>\n",
       "      <td>0</td>\n",
       "      <td>0</td>\n",
       "      <td>0</td>\n",
       "      <td>0</td>\n",
       "      <td>0</td>\n",
       "      <td>0</td>\n",
       "      <td>0</td>\n",
       "      <td>...</td>\n",
       "      <td>0</td>\n",
       "      <td>0</td>\n",
       "      <td>0</td>\n",
       "      <td>0</td>\n",
       "      <td>0</td>\n",
       "      <td>0</td>\n",
       "      <td>0</td>\n",
       "      <td>0</td>\n",
       "      <td>0</td>\n",
       "      <td>0</td>\n",
       "    </tr>\n",
       "    <tr>\n",
       "      <th>1</th>\n",
       "      <td>0</td>\n",
       "      <td>0</td>\n",
       "      <td>0</td>\n",
       "      <td>0</td>\n",
       "      <td>0</td>\n",
       "      <td>0</td>\n",
       "      <td>0</td>\n",
       "      <td>0</td>\n",
       "      <td>0</td>\n",
       "      <td>0</td>\n",
       "      <td>...</td>\n",
       "      <td>0</td>\n",
       "      <td>0</td>\n",
       "      <td>0</td>\n",
       "      <td>0</td>\n",
       "      <td>0</td>\n",
       "      <td>0</td>\n",
       "      <td>0</td>\n",
       "      <td>0</td>\n",
       "      <td>0</td>\n",
       "      <td>0</td>\n",
       "    </tr>\n",
       "    <tr>\n",
       "      <th>2</th>\n",
       "      <td>0</td>\n",
       "      <td>0</td>\n",
       "      <td>0</td>\n",
       "      <td>0</td>\n",
       "      <td>0</td>\n",
       "      <td>0</td>\n",
       "      <td>0</td>\n",
       "      <td>0</td>\n",
       "      <td>0</td>\n",
       "      <td>0</td>\n",
       "      <td>...</td>\n",
       "      <td>0</td>\n",
       "      <td>0</td>\n",
       "      <td>0</td>\n",
       "      <td>0</td>\n",
       "      <td>0</td>\n",
       "      <td>0</td>\n",
       "      <td>0</td>\n",
       "      <td>0</td>\n",
       "      <td>0</td>\n",
       "      <td>0</td>\n",
       "    </tr>\n",
       "    <tr>\n",
       "      <th>3</th>\n",
       "      <td>0</td>\n",
       "      <td>0</td>\n",
       "      <td>0</td>\n",
       "      <td>0</td>\n",
       "      <td>0</td>\n",
       "      <td>0</td>\n",
       "      <td>0</td>\n",
       "      <td>0</td>\n",
       "      <td>0</td>\n",
       "      <td>0</td>\n",
       "      <td>...</td>\n",
       "      <td>0</td>\n",
       "      <td>0</td>\n",
       "      <td>0</td>\n",
       "      <td>0</td>\n",
       "      <td>0</td>\n",
       "      <td>0</td>\n",
       "      <td>0</td>\n",
       "      <td>0</td>\n",
       "      <td>0</td>\n",
       "      <td>0</td>\n",
       "    </tr>\n",
       "    <tr>\n",
       "      <th>4</th>\n",
       "      <td>0</td>\n",
       "      <td>0</td>\n",
       "      <td>0</td>\n",
       "      <td>0</td>\n",
       "      <td>0</td>\n",
       "      <td>0</td>\n",
       "      <td>0</td>\n",
       "      <td>0</td>\n",
       "      <td>0</td>\n",
       "      <td>0</td>\n",
       "      <td>...</td>\n",
       "      <td>0</td>\n",
       "      <td>0</td>\n",
       "      <td>0</td>\n",
       "      <td>0</td>\n",
       "      <td>0</td>\n",
       "      <td>0</td>\n",
       "      <td>0</td>\n",
       "      <td>0</td>\n",
       "      <td>0</td>\n",
       "      <td>0</td>\n",
       "    </tr>\n",
       "  </tbody>\n",
       "</table>\n",
       "<p>5 rows × 8192 columns</p>\n",
       "</div>"
      ],
      "text/plain": [
       "   AvalonFP0  AvalonFP1  AvalonFP2  AvalonFP3  AvalonFP4  AvalonFP5  \\\n",
       "0          0          0          0          0          0          0   \n",
       "1          0          0          0          0          0          0   \n",
       "2          0          0          0          0          0          0   \n",
       "3          0          0          0          0          0          0   \n",
       "4          0          0          0          0          0          0   \n",
       "\n",
       "   AvalonFP6  AvalonFP7  AvalonFP8  AvalonFP9  ...  MorganFP2038  \\\n",
       "0          0          0          0          0  ...             0   \n",
       "1          0          0          0          0  ...             0   \n",
       "2          0          0          0          0  ...             0   \n",
       "3          0          0          0          0  ...             0   \n",
       "4          0          0          0          0  ...             0   \n",
       "\n",
       "   MorganFP2039  MorganFP2040  MorganFP2041  MorganFP2042  MorganFP2043  \\\n",
       "0             0             0             0             0             0   \n",
       "1             0             0             0             0             0   \n",
       "2             0             0             0             0             0   \n",
       "3             0             0             0             0             0   \n",
       "4             0             0             0             0             0   \n",
       "\n",
       "   MorganFP2044  MorganFP2045  MorganFP2046  MorganFP2047  \n",
       "0             0             0             0             0  \n",
       "1             0             0             0             0  \n",
       "2             0             0             0             0  \n",
       "3             0             0             0             0  \n",
       "4             0             0             0             0  \n",
       "\n",
       "[5 rows x 8192 columns]"
      ]
     },
     "execution_count": 10,
     "metadata": {},
     "output_type": "execute_result"
    }
   ],
   "source": [
    "X0.head()"
   ]
  },
  {
   "cell_type": "code",
   "execution_count": 11,
   "metadata": {},
   "outputs": [
    {
     "data": {
      "text/plain": [
       "6227"
      ]
     },
     "execution_count": 11,
     "metadata": {},
     "output_type": "execute_result"
    }
   ],
   "source": [
    "len(X0)"
   ]
  },
  {
   "cell_type": "markdown",
   "metadata": {},
   "source": [
    "# splitting data in random mode, using seed=1\n",
    "# i.e. X0,Y0 will be splitted into  train, valid, test dataset"
   ]
  },
  {
   "cell_type": "code",
   "execution_count": 12,
   "metadata": {},
   "outputs": [],
   "source": [
    "def random_split(df, random_state, split_size = [0.8, 0.1, 0.1]):\n",
    "\tbase_indices = np.arange(len(df)) \n",
    "\tbase_indices = shuffle(base_indices, random_state = random_state) \n",
    "\tnb_test = int(len(base_indices) * split_size[2]) \n",
    "\tnb_val = int(len(base_indices) * split_size[1]) \n",
    "\ttest_idx = base_indices[0:nb_test] \n",
    "\tvalid_idx = base_indices[(nb_test):(nb_test+nb_val)] \n",
    "\ttrain_idx = base_indices[(nb_test+nb_val):len(base_indices)] \n",
    "\tprint(len(train_idx), len(valid_idx), len(test_idx)) \n",
    "\treturn train_idx, valid_idx, test_idx "
   ]
  },
  {
   "cell_type": "code",
   "execution_count": 15,
   "metadata": {},
   "outputs": [],
   "source": [
    "seed = 1\n",
    "X0=X0.values"
   ]
  },
  {
   "cell_type": "code",
   "execution_count": 16,
   "metadata": {},
   "outputs": [
    {
     "name": "stdout",
     "output_type": "stream",
     "text": [
      "4983 622 622\n",
      "4983 622 622\n"
     ]
    }
   ],
   "source": [
    "train_idx, valid_idx, test_idx = random_split(df,random_state=seed)\n",
    "train_idx = [i for i in train_idx if i < len(df)]\n",
    "valid_idx = [i for i in valid_idx if i < len(df)]\t\n",
    "test_idx = [i for i in test_idx if i < len(df)]\t\n",
    "print(len(train_idx), len(valid_idx), len(test_idx)) \n",
    "X = X0[train_idx]; y = Y0[train_idx]\n",
    "X_valid = X0[valid_idx];y_valid = Y0[valid_idx]\n",
    "X_test = X0[test_idx]; y_test = Y0[test_idx] "
   ]
  },
  {
   "cell_type": "markdown",
   "metadata": {},
   "source": [
    "# loading optimized parameters"
   ]
  },
  {
   "cell_type": "code",
   "execution_count": 17,
   "metadata": {},
   "outputs": [],
   "source": [
    "import json\n",
    "with open('params_regress','r') as f:\n",
    "    best_param=json.load(f)"
   ]
  },
  {
   "cell_type": "code",
   "execution_count": 18,
   "metadata": {},
   "outputs": [
    {
     "data": {
      "text/plain": [
       "{'params': {'base_score': 0.5,\n",
       "  'booster': 'gbtree',\n",
       "  'colsample_bylevel': 1,\n",
       "  'colsample_bynode': 1,\n",
       "  'colsample_bytree': 0.3,\n",
       "  'gamma': 0.02,\n",
       "  'gpu_id': 0,\n",
       "  'importance_type': 'gain',\n",
       "  'learning_rate': 0.05,\n",
       "  'max_delta_step': 0,\n",
       "  'max_depth': 6,\n",
       "  'min_child_weight': 4,\n",
       "  'missing': None,\n",
       "  'n_estimators': 10000,\n",
       "  'n_jobs': 1,\n",
       "  'nthread': None,\n",
       "  'objective': 'reg:squarederror',\n",
       "  'random_state': 0,\n",
       "  'reg_alpha': 4.0,\n",
       "  'reg_lambda': 1.2,\n",
       "  'scale_pos_weight': 1,\n",
       "  'seed': 123,\n",
       "  'silent': None,\n",
       "  'subsample': 0.6,\n",
       "  'tree_method': 'gpu_hist',\n",
       "  'verbosity': 1},\n",
       " 'results': {'fp_types': 'AvalonFP_AtomPairFP_RDkitFP_MorganFP',\n",
       "  'model': 'xgb',\n",
       "  'test_r2': 0.7018138890790199,\n",
       "  'test_rmse': 0.6490377959563551,\n",
       "  'time': 129.38433146476746,\n",
       "  'train_r2': 0.9847055980981125,\n",
       "  'train_rmse': 0.14417539136408952,\n",
       "  'valid_r2': 0.657361636795885,\n",
       "  'valid_rmse': 0.6536675629974252}}"
      ]
     },
     "execution_count": 18,
     "metadata": {},
     "output_type": "execute_result"
    }
   ],
   "source": [
    "best_param"
   ]
  },
  {
   "cell_type": "code",
   "execution_count": 19,
   "metadata": {},
   "outputs": [],
   "source": [
    "use_param=best_param['params']"
   ]
  },
  {
   "cell_type": "code",
   "execution_count": 20,
   "metadata": {},
   "outputs": [
    {
     "data": {
      "text/plain": [
       "{'base_score': 0.5,\n",
       " 'booster': 'gbtree',\n",
       " 'colsample_bylevel': 1,\n",
       " 'colsample_bynode': 1,\n",
       " 'colsample_bytree': 0.3,\n",
       " 'gamma': 0.02,\n",
       " 'gpu_id': 0,\n",
       " 'importance_type': 'gain',\n",
       " 'learning_rate': 0.05,\n",
       " 'max_delta_step': 0,\n",
       " 'max_depth': 6,\n",
       " 'min_child_weight': 4,\n",
       " 'missing': None,\n",
       " 'n_estimators': 10000,\n",
       " 'n_jobs': 1,\n",
       " 'nthread': None,\n",
       " 'objective': 'reg:squarederror',\n",
       " 'random_state': 0,\n",
       " 'reg_alpha': 4.0,\n",
       " 'reg_lambda': 1.2,\n",
       " 'scale_pos_weight': 1,\n",
       " 'seed': 123,\n",
       " 'silent': None,\n",
       " 'subsample': 0.6,\n",
       " 'tree_method': 'gpu_hist',\n",
       " 'verbosity': 1}"
      ]
     },
     "execution_count": 20,
     "metadata": {},
     "output_type": "execute_result"
    }
   ],
   "source": [
    "use_param"
   ]
  },
  {
   "cell_type": "markdown",
   "metadata": {},
   "source": [
    "# define xgboost regression model"
   ]
  },
  {
   "cell_type": "code",
   "execution_count": 21,
   "metadata": {},
   "outputs": [],
   "source": [
    "clf=xgboost.XGBRegressor(**use_param)\n",
    "#clf=xgboost.XGBRegressor(**best_param['params'])"
   ]
  },
  {
   "cell_type": "code",
   "execution_count": 22,
   "metadata": {
    "scrolled": true
   },
   "outputs": [
    {
     "name": "stdout",
     "output_type": "stream",
     "text": [
      "clf =  XGBRegressor(colsample_bytree=0.3, gamma=0.02, gpu_id=0, learning_rate=0.05,\n",
      "             max_depth=6, min_child_weight=4, n_estimators=10000,\n",
      "             objective='reg:squarederror', reg_alpha=4.0, reg_lambda=1.2,\n",
      "             seed=123, subsample=0.6, tree_method='gpu_hist')\n"
     ]
    }
   ],
   "source": [
    "print('clf = ',clf)"
   ]
  },
  {
   "cell_type": "markdown",
   "metadata": {},
   "source": [
    "# training xgb using training dataset"
   ]
  },
  {
   "cell_type": "code",
   "execution_count": 23,
   "metadata": {},
   "outputs": [
    {
     "name": "stdout",
     "output_type": "stream",
     "text": [
      "fit time is: 291.88478422164917\n"
     ]
    }
   ],
   "source": [
    "time1=time.time()\n",
    "model=clf.fit(X, y)\n",
    "time2=time.time()\n",
    "time_fit=time2-time1\n",
    "print(f\"fit time is: {time_fit}\")"
   ]
  },
  {
   "cell_type": "markdown",
   "metadata": {},
   "source": [
    "# evaluating the performance by valid and test dataset"
   ]
  },
  {
   "cell_type": "code",
   "execution_count": 25,
   "metadata": {},
   "outputs": [],
   "source": [
    "valid_r2 = pearsonr(y_valid, clf.predict(X_valid))[0]**2\n",
    "valid_rmse = rmse(y_valid, clf.predict(X_valid))\n",
    "test_r2 = pearsonr(y_test, clf.predict(X_test))[0]**2\n",
    "test_rmse = rmse(y_test, clf.predict(X_test))"
   ]
  },
  {
   "cell_type": "code",
   "execution_count": 28,
   "metadata": {},
   "outputs": [
    {
     "name": "stdout",
     "output_type": "stream",
     "text": [
      "results =  {'seed': 1, 'valid_rmse': 0.6619354805986309, 'valid_r2': 0.662065566393008, 'test_rmse': 0.6892037357815582, 'test_r2': 0.6695890564861264, 'time': 291.88478422164917}\n"
     ]
    }
   ],
   "source": [
    "results = {\"seed\":seed, 'valid_rmse':valid_rmse,\n",
    "'valid_r2':valid_r2,\"test_rmse\":test_rmse, \"test_r2\": test_r2,\"time\":time_fit}\n",
    "print('results = ',results)"
   ]
  },
  {
   "cell_type": "markdown",
   "metadata": {},
   "source": [
    "# change random seed to 8 to split the X0 and Y0, rerun the training and evaluation"
   ]
  },
  {
   "cell_type": "code",
   "execution_count": 30,
   "metadata": {},
   "outputs": [
    {
     "name": "stdout",
     "output_type": "stream",
     "text": [
      "4983 622 622\n",
      "4983 622 622\n"
     ]
    }
   ],
   "source": [
    "seed = 8\n",
    "\n",
    "train_idx, valid_idx, test_idx = random_split(df,random_state=seed)\n",
    "train_idx = [i for i in train_idx if i < len(df)]\n",
    "valid_idx = [i for i in valid_idx if i < len(df)]\t\n",
    "test_idx = [i for i in test_idx if i < len(df)]\t\n",
    "print(len(train_idx), len(valid_idx), len(test_idx)) \n",
    "X = X0[train_idx]; y = Y0[train_idx]\n",
    "X_valid = X0[valid_idx];y_valid = Y0[valid_idx]\n",
    "X_test = X0[test_idx]; y_test = Y0[test_idx] "
   ]
  },
  {
   "cell_type": "markdown",
   "metadata": {},
   "source": [
    "# re-define xgb model"
   ]
  },
  {
   "cell_type": "code",
   "execution_count": 32,
   "metadata": {},
   "outputs": [],
   "source": [
    "clf=''\n",
    "clf=xgboost.XGBRegressor(**use_param)"
   ]
  },
  {
   "cell_type": "code",
   "execution_count": 33,
   "metadata": {},
   "outputs": [
    {
     "name": "stdout",
     "output_type": "stream",
     "text": [
      "fit time is: 285.77695178985596\n",
      "results =  {'seed': 8, 'valid_rmse': 0.6671932464346332, 'valid_r2': 0.6437878699997245, 'test_rmse': 0.6635918275212866, 'test_r2': 0.6883650373171917, 'time': 285.77695178985596}\n"
     ]
    }
   ],
   "source": [
    "time1=time.time()\n",
    "model=clf.fit(X, y)\n",
    "time2=time.time()\n",
    "time_fit=time2-time1\n",
    "print(f\"fit time is: {time_fit}\")\n",
    "valid_r2 = pearsonr(y_valid, clf.predict(X_valid))[0]**2\n",
    "valid_rmse = rmse(y_valid, clf.predict(X_valid))\n",
    "test_r2 = pearsonr(y_test, clf.predict(X_test))[0]**2\n",
    "test_rmse = rmse(y_test, clf.predict(X_test))\n",
    "results = {\"seed\":seed, 'valid_rmse':valid_rmse,\n",
    "'valid_r2':valid_r2,\"test_rmse\":test_rmse, \"test_r2\": test_r2,\"time\":time_fit}\n",
    "print('results = ',results)"
   ]
  },
  {
   "cell_type": "code",
   "execution_count": null,
   "metadata": {},
   "outputs": [],
   "source": []
  }
 ],
 "metadata": {
  "kernelspec": {
   "display_name": "Python 3",
   "language": "python",
   "name": "python3"
  },
  "language_info": {
   "codemirror_mode": {
    "name": "ipython",
    "version": 3
   },
   "file_extension": ".py",
   "mimetype": "text/x-python",
   "name": "python",
   "nbconvert_exporter": "python",
   "pygments_lexer": "ipython3",
   "version": "3.7.1"
  }
 },
 "nbformat": 4,
 "nbformat_minor": 5
}
