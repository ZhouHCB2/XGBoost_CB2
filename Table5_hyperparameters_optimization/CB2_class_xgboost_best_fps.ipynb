{
 "cells": [
  {
   "cell_type": "code",
   "execution_count": 1,
   "metadata": {},
   "outputs": [],
   "source": [
    "import sys\n",
    "sys.path.append('/home/phzd/AI/bidd-molmap_v1_3')\n",
    "from sklearn.neighbors import KNeighborsClassifier, KNeighborsRegressor\n",
    "from sklearn.metrics import roc_auc_score, precision_recall_curve\n",
    "from sklearn.metrics import auc as calculate_auc\n",
    "from sklearn.metrics import mean_squared_error\n",
    "from sklearn.metrics import accuracy_score\n",
    "from tqdm import tqdm\n",
    "from sklearn.utils import shuffle \n",
    "from joblib import load, dump\n",
    "import numpy as np\n",
    "import pandas as pd\n",
    "import os,time,json\n",
    "from molmap import feature,loadmap\n",
    "from scipy.stats.stats import pearsonr\n",
    "from argparse import ArgumentParser\n",
    "import xgboost"
   ]
  },
  {
   "cell_type": "code",
   "execution_count": 2,
   "metadata": {},
   "outputs": [],
   "source": [
    "def PRC_AUC(y_true, y_score):\n",
    "\tprecision, recall, threshold  = precision_recall_curve(y_true, y_score) #PRC_AUC\n",
    "\tauc = calculate_auc(recall, precision)\n",
    "\treturn auc\n",
    "\n",
    "def ROC_AUC(y_true, y_score):\n",
    "\tauc = roc_auc_score(y_true, y_score)\n",
    "\treturn auc"
   ]
  },
  {
   "cell_type": "markdown",
   "metadata": {},
   "source": [
    "# Load y"
   ]
  },
  {
   "cell_type": "code",
   "execution_count": 3,
   "metadata": {},
   "outputs": [],
   "source": [
    "df=pd.read_csv('CB2_Chembl_C7758.csv')"
   ]
  },
  {
   "cell_type": "code",
   "execution_count": 4,
   "metadata": {},
   "outputs": [
    {
     "data": {
      "text/html": [
       "<div>\n",
       "<style scoped>\n",
       "    .dataframe tbody tr th:only-of-type {\n",
       "        vertical-align: middle;\n",
       "    }\n",
       "\n",
       "    .dataframe tbody tr th {\n",
       "        vertical-align: top;\n",
       "    }\n",
       "\n",
       "    .dataframe thead th {\n",
       "        text-align: right;\n",
       "    }\n",
       "</style>\n",
       "<table border=\"1\" class=\"dataframe\">\n",
       "  <thead>\n",
       "    <tr style=\"text-align: right;\">\n",
       "      <th></th>\n",
       "      <th>smiles</th>\n",
       "      <th>act1</th>\n",
       "      <th>act2</th>\n",
       "      <th>act3</th>\n",
       "      <th>act4</th>\n",
       "    </tr>\n",
       "  </thead>\n",
       "  <tbody>\n",
       "    <tr>\n",
       "      <th>0</th>\n",
       "      <td>Cc1cccc(-c2nnc(SCC(=O)NC3CCCCC3)n2Cc2ccccc2)c1</td>\n",
       "      <td>1</td>\n",
       "      <td>1</td>\n",
       "      <td>1</td>\n",
       "      <td>1</td>\n",
       "    </tr>\n",
       "    <tr>\n",
       "      <th>1</th>\n",
       "      <td>CCCCSc1nc2c(c(=O)n1CCc1ccccc1)C1(CCCC1)Cc1cccc...</td>\n",
       "      <td>1</td>\n",
       "      <td>1</td>\n",
       "      <td>1</td>\n",
       "      <td>1</td>\n",
       "    </tr>\n",
       "    <tr>\n",
       "      <th>2</th>\n",
       "      <td>CCOc1ccc(N(CC(=O)N[C@@H](C)CC)S(=O)(=O)c2ccc(B...</td>\n",
       "      <td>1</td>\n",
       "      <td>1</td>\n",
       "      <td>1</td>\n",
       "      <td>1</td>\n",
       "    </tr>\n",
       "    <tr>\n",
       "      <th>3</th>\n",
       "      <td>CCCCCN(CCCCC)C(=O)c1ccccc1C(=O)Nc1ccc(Br)cc1</td>\n",
       "      <td>1</td>\n",
       "      <td>1</td>\n",
       "      <td>1</td>\n",
       "      <td>1</td>\n",
       "    </tr>\n",
       "    <tr>\n",
       "      <th>4</th>\n",
       "      <td>CCCCCOc1c(OC)ccc2cc(C(=O)NCCc3ccncc3)c(=O)[nH]c12</td>\n",
       "      <td>1</td>\n",
       "      <td>1</td>\n",
       "      <td>1</td>\n",
       "      <td>1</td>\n",
       "    </tr>\n",
       "  </tbody>\n",
       "</table>\n",
       "</div>"
      ],
      "text/plain": [
       "                                              smiles  act1  act2  act3  act4\n",
       "0     Cc1cccc(-c2nnc(SCC(=O)NC3CCCCC3)n2Cc2ccccc2)c1     1     1     1     1\n",
       "1  CCCCSc1nc2c(c(=O)n1CCc1ccccc1)C1(CCCC1)Cc1cccc...     1     1     1     1\n",
       "2  CCOc1ccc(N(CC(=O)N[C@@H](C)CC)S(=O)(=O)c2ccc(B...     1     1     1     1\n",
       "3       CCCCCN(CCCCC)C(=O)c1ccccc1C(=O)Nc1ccc(Br)cc1     1     1     1     1\n",
       "4  CCCCCOc1c(OC)ccc2cc(C(=O)NCCc3ccncc3)c(=O)[nH]c12     1     1     1     1"
      ]
     },
     "execution_count": 4,
     "metadata": {},
     "output_type": "execute_result"
    }
   ],
   "source": [
    "df.head()"
   ]
  },
  {
   "cell_type": "code",
   "execution_count": 5,
   "metadata": {},
   "outputs": [],
   "source": [
    "Y0 = df['threshold4'].astype('int').values"
   ]
  },
  {
   "cell_type": "code",
   "execution_count": 6,
   "metadata": {},
   "outputs": [
    {
     "data": {
      "text/plain": [
       "array([1, 1, 1, ..., 0, 0, 0])"
      ]
     },
     "execution_count": 6,
     "metadata": {},
     "output_type": "execute_result"
    }
   ],
   "source": [
    "Y0"
   ]
  },
  {
   "cell_type": "code",
   "execution_count": 7,
   "metadata": {},
   "outputs": [
    {
     "data": {
      "text/plain": [
       "7758"
      ]
     },
     "execution_count": 7,
     "metadata": {},
     "output_type": "execute_result"
    }
   ],
   "source": [
    "len(Y0)"
   ]
  },
  {
   "cell_type": "markdown",
   "metadata": {},
   "source": [
    "# Load feats, i.e. X"
   ]
  },
  {
   "cell_type": "code",
   "execution_count": 9,
   "metadata": {},
   "outputs": [],
   "source": [
    "X0=pd.read_csv('AvalonFP_MorganFP_AtomPairFP.csv')"
   ]
  },
  {
   "cell_type": "code",
   "execution_count": 10,
   "metadata": {},
   "outputs": [
    {
     "data": {
      "text/html": [
       "<div>\n",
       "<style scoped>\n",
       "    .dataframe tbody tr th:only-of-type {\n",
       "        vertical-align: middle;\n",
       "    }\n",
       "\n",
       "    .dataframe tbody tr th {\n",
       "        vertical-align: top;\n",
       "    }\n",
       "\n",
       "    .dataframe thead th {\n",
       "        text-align: right;\n",
       "    }\n",
       "</style>\n",
       "<table border=\"1\" class=\"dataframe\">\n",
       "  <thead>\n",
       "    <tr style=\"text-align: right;\">\n",
       "      <th></th>\n",
       "      <th>AvalonFP0</th>\n",
       "      <th>AvalonFP1</th>\n",
       "      <th>AvalonFP2</th>\n",
       "      <th>AvalonFP3</th>\n",
       "      <th>AvalonFP4</th>\n",
       "      <th>AvalonFP5</th>\n",
       "      <th>AvalonFP6</th>\n",
       "      <th>AvalonFP7</th>\n",
       "      <th>AvalonFP8</th>\n",
       "      <th>AvalonFP9</th>\n",
       "      <th>...</th>\n",
       "      <th>AtomPairFP2038</th>\n",
       "      <th>AtomPairFP2039</th>\n",
       "      <th>AtomPairFP2040</th>\n",
       "      <th>AtomPairFP2041</th>\n",
       "      <th>AtomPairFP2042</th>\n",
       "      <th>AtomPairFP2043</th>\n",
       "      <th>AtomPairFP2044</th>\n",
       "      <th>AtomPairFP2045</th>\n",
       "      <th>AtomPairFP2046</th>\n",
       "      <th>AtomPairFP2047</th>\n",
       "    </tr>\n",
       "  </thead>\n",
       "  <tbody>\n",
       "    <tr>\n",
       "      <th>0</th>\n",
       "      <td>1</td>\n",
       "      <td>0</td>\n",
       "      <td>0</td>\n",
       "      <td>0</td>\n",
       "      <td>0</td>\n",
       "      <td>0</td>\n",
       "      <td>0</td>\n",
       "      <td>0</td>\n",
       "      <td>0</td>\n",
       "      <td>0</td>\n",
       "      <td>...</td>\n",
       "      <td>0</td>\n",
       "      <td>0</td>\n",
       "      <td>0</td>\n",
       "      <td>0</td>\n",
       "      <td>1</td>\n",
       "      <td>1</td>\n",
       "      <td>0</td>\n",
       "      <td>0</td>\n",
       "      <td>0</td>\n",
       "      <td>0</td>\n",
       "    </tr>\n",
       "    <tr>\n",
       "      <th>1</th>\n",
       "      <td>1</td>\n",
       "      <td>0</td>\n",
       "      <td>0</td>\n",
       "      <td>0</td>\n",
       "      <td>1</td>\n",
       "      <td>0</td>\n",
       "      <td>1</td>\n",
       "      <td>0</td>\n",
       "      <td>0</td>\n",
       "      <td>1</td>\n",
       "      <td>...</td>\n",
       "      <td>0</td>\n",
       "      <td>0</td>\n",
       "      <td>0</td>\n",
       "      <td>0</td>\n",
       "      <td>0</td>\n",
       "      <td>0</td>\n",
       "      <td>0</td>\n",
       "      <td>0</td>\n",
       "      <td>0</td>\n",
       "      <td>0</td>\n",
       "    </tr>\n",
       "    <tr>\n",
       "      <th>2</th>\n",
       "      <td>1</td>\n",
       "      <td>0</td>\n",
       "      <td>0</td>\n",
       "      <td>0</td>\n",
       "      <td>0</td>\n",
       "      <td>0</td>\n",
       "      <td>0</td>\n",
       "      <td>0</td>\n",
       "      <td>0</td>\n",
       "      <td>0</td>\n",
       "      <td>...</td>\n",
       "      <td>0</td>\n",
       "      <td>0</td>\n",
       "      <td>0</td>\n",
       "      <td>0</td>\n",
       "      <td>0</td>\n",
       "      <td>0</td>\n",
       "      <td>0</td>\n",
       "      <td>0</td>\n",
       "      <td>0</td>\n",
       "      <td>0</td>\n",
       "    </tr>\n",
       "    <tr>\n",
       "      <th>3</th>\n",
       "      <td>0</td>\n",
       "      <td>0</td>\n",
       "      <td>0</td>\n",
       "      <td>0</td>\n",
       "      <td>0</td>\n",
       "      <td>0</td>\n",
       "      <td>0</td>\n",
       "      <td>0</td>\n",
       "      <td>0</td>\n",
       "      <td>0</td>\n",
       "      <td>...</td>\n",
       "      <td>0</td>\n",
       "      <td>0</td>\n",
       "      <td>0</td>\n",
       "      <td>0</td>\n",
       "      <td>0</td>\n",
       "      <td>0</td>\n",
       "      <td>0</td>\n",
       "      <td>0</td>\n",
       "      <td>0</td>\n",
       "      <td>0</td>\n",
       "    </tr>\n",
       "    <tr>\n",
       "      <th>4</th>\n",
       "      <td>0</td>\n",
       "      <td>0</td>\n",
       "      <td>0</td>\n",
       "      <td>0</td>\n",
       "      <td>0</td>\n",
       "      <td>0</td>\n",
       "      <td>0</td>\n",
       "      <td>0</td>\n",
       "      <td>0</td>\n",
       "      <td>0</td>\n",
       "      <td>...</td>\n",
       "      <td>0</td>\n",
       "      <td>1</td>\n",
       "      <td>0</td>\n",
       "      <td>0</td>\n",
       "      <td>0</td>\n",
       "      <td>0</td>\n",
       "      <td>0</td>\n",
       "      <td>0</td>\n",
       "      <td>0</td>\n",
       "      <td>0</td>\n",
       "    </tr>\n",
       "  </tbody>\n",
       "</table>\n",
       "<p>5 rows × 6144 columns</p>\n",
       "</div>"
      ],
      "text/plain": [
       "   AvalonFP0  AvalonFP1  AvalonFP2  AvalonFP3  AvalonFP4  AvalonFP5  \\\n",
       "0          1          0          0          0          0          0   \n",
       "1          1          0          0          0          1          0   \n",
       "2          1          0          0          0          0          0   \n",
       "3          0          0          0          0          0          0   \n",
       "4          0          0          0          0          0          0   \n",
       "\n",
       "   AvalonFP6  AvalonFP7  AvalonFP8  AvalonFP9  ...  AtomPairFP2038  \\\n",
       "0          0          0          0          0  ...               0   \n",
       "1          1          0          0          1  ...               0   \n",
       "2          0          0          0          0  ...               0   \n",
       "3          0          0          0          0  ...               0   \n",
       "4          0          0          0          0  ...               0   \n",
       "\n",
       "   AtomPairFP2039  AtomPairFP2040  AtomPairFP2041  AtomPairFP2042  \\\n",
       "0               0               0               0               1   \n",
       "1               0               0               0               0   \n",
       "2               0               0               0               0   \n",
       "3               0               0               0               0   \n",
       "4               1               0               0               0   \n",
       "\n",
       "   AtomPairFP2043  AtomPairFP2044  AtomPairFP2045  AtomPairFP2046  \\\n",
       "0               1               0               0               0   \n",
       "1               0               0               0               0   \n",
       "2               0               0               0               0   \n",
       "3               0               0               0               0   \n",
       "4               0               0               0               0   \n",
       "\n",
       "   AtomPairFP2047  \n",
       "0               0  \n",
       "1               0  \n",
       "2               0  \n",
       "3               0  \n",
       "4               0  \n",
       "\n",
       "[5 rows x 6144 columns]"
      ]
     },
     "execution_count": 10,
     "metadata": {},
     "output_type": "execute_result"
    }
   ],
   "source": [
    "X0.head()"
   ]
  },
  {
   "cell_type": "code",
   "execution_count": 11,
   "metadata": {
    "scrolled": true
   },
   "outputs": [
    {
     "data": {
      "text/html": [
       "<div>\n",
       "<style scoped>\n",
       "    .dataframe tbody tr th:only-of-type {\n",
       "        vertical-align: middle;\n",
       "    }\n",
       "\n",
       "    .dataframe tbody tr th {\n",
       "        vertical-align: top;\n",
       "    }\n",
       "\n",
       "    .dataframe thead th {\n",
       "        text-align: right;\n",
       "    }\n",
       "</style>\n",
       "<table border=\"1\" class=\"dataframe\">\n",
       "  <thead>\n",
       "    <tr style=\"text-align: right;\">\n",
       "      <th></th>\n",
       "      <th>AvalonFP2046</th>\n",
       "      <th>AvalonFP2047</th>\n",
       "      <th>MorganFP0</th>\n",
       "    </tr>\n",
       "  </thead>\n",
       "  <tbody>\n",
       "    <tr>\n",
       "      <th>0</th>\n",
       "      <td>1</td>\n",
       "      <td>1</td>\n",
       "      <td>0</td>\n",
       "    </tr>\n",
       "    <tr>\n",
       "      <th>1</th>\n",
       "      <td>0</td>\n",
       "      <td>0</td>\n",
       "      <td>0</td>\n",
       "    </tr>\n",
       "  </tbody>\n",
       "</table>\n",
       "</div>"
      ],
      "text/plain": [
       "   AvalonFP2046  AvalonFP2047  MorganFP0\n",
       "0             1             1          0\n",
       "1             0             0          0"
      ]
     },
     "execution_count": 11,
     "metadata": {},
     "output_type": "execute_result"
    }
   ],
   "source": [
    "X0.iloc[:2,2046:2049]"
   ]
  },
  {
   "cell_type": "code",
   "execution_count": 12,
   "metadata": {},
   "outputs": [
    {
     "data": {
      "text/html": [
       "<div>\n",
       "<style scoped>\n",
       "    .dataframe tbody tr th:only-of-type {\n",
       "        vertical-align: middle;\n",
       "    }\n",
       "\n",
       "    .dataframe tbody tr th {\n",
       "        vertical-align: top;\n",
       "    }\n",
       "\n",
       "    .dataframe thead th {\n",
       "        text-align: right;\n",
       "    }\n",
       "</style>\n",
       "<table border=\"1\" class=\"dataframe\">\n",
       "  <thead>\n",
       "    <tr style=\"text-align: right;\">\n",
       "      <th></th>\n",
       "      <th>MorganFP2046</th>\n",
       "      <th>MorganFP2047</th>\n",
       "      <th>AtomPairFP0</th>\n",
       "    </tr>\n",
       "  </thead>\n",
       "  <tbody>\n",
       "    <tr>\n",
       "      <th>0</th>\n",
       "      <td>0</td>\n",
       "      <td>0</td>\n",
       "      <td>0</td>\n",
       "    </tr>\n",
       "    <tr>\n",
       "      <th>1</th>\n",
       "      <td>0</td>\n",
       "      <td>0</td>\n",
       "      <td>0</td>\n",
       "    </tr>\n",
       "  </tbody>\n",
       "</table>\n",
       "</div>"
      ],
      "text/plain": [
       "   MorganFP2046  MorganFP2047  AtomPairFP0\n",
       "0             0             0            0\n",
       "1             0             0            0"
      ]
     },
     "execution_count": 12,
     "metadata": {},
     "output_type": "execute_result"
    }
   ],
   "source": [
    "X0.iloc[:2,4094:4097]"
   ]
  },
  {
   "cell_type": "code",
   "execution_count": 13,
   "metadata": {},
   "outputs": [
    {
     "data": {
      "text/plain": [
       "7758"
      ]
     },
     "execution_count": 13,
     "metadata": {},
     "output_type": "execute_result"
    }
   ],
   "source": [
    "len(X0)"
   ]
  },
  {
   "cell_type": "markdown",
   "metadata": {},
   "source": [
    "# splitting data in random mode, using seed=1\n",
    "# i.e. X0,Y0 will be splitted into  train, valid, test dataset"
   ]
  },
  {
   "cell_type": "code",
   "execution_count": 14,
   "metadata": {},
   "outputs": [],
   "source": [
    "def random_split(df, random_state, split_size = [0.8, 0.1, 0.1]):\n",
    "\tbase_indices = np.arange(len(df)) \n",
    "\tbase_indices = shuffle(base_indices, random_state = random_state) \n",
    "\tnb_test = int(len(base_indices) * split_size[2]) \n",
    "\tnb_val = int(len(base_indices) * split_size[1]) \n",
    "\ttest_idx = base_indices[0:nb_test] \n",
    "\tvalid_idx = base_indices[(nb_test):(nb_test+nb_val)] \n",
    "\ttrain_idx = base_indices[(nb_test+nb_val):len(base_indices)] \n",
    "\tprint(len(train_idx), len(valid_idx), len(test_idx)) \n",
    "\treturn train_idx, valid_idx, test_idx "
   ]
  },
  {
   "cell_type": "code",
   "execution_count": 15,
   "metadata": {},
   "outputs": [],
   "source": [
    "seed = 1\n",
    "X0=X0.values"
   ]
  },
  {
   "cell_type": "code",
   "execution_count": 16,
   "metadata": {},
   "outputs": [
    {
     "name": "stdout",
     "output_type": "stream",
     "text": [
      "6208 775 775\n",
      "6208 775 775\n"
     ]
    }
   ],
   "source": [
    "train_idx, valid_idx, test_idx = random_split(df,random_state=seed)\n",
    "train_idx = [i for i in train_idx if i < len(df)]\n",
    "valid_idx = [i for i in valid_idx if i < len(df)]\t\n",
    "test_idx = [i for i in test_idx if i < len(df)]\t\n",
    "print(len(train_idx), len(valid_idx), len(test_idx)) \n",
    "X = X0[train_idx]; y = Y0[train_idx]\n",
    "X_valid = X0[valid_idx];y_valid = Y0[valid_idx]\n",
    "X_test = X0[test_idx]; y_test = Y0[test_idx] "
   ]
  },
  {
   "cell_type": "markdown",
   "metadata": {},
   "source": [
    "# loading optimized parameters"
   ]
  },
  {
   "cell_type": "code",
   "execution_count": 17,
   "metadata": {},
   "outputs": [],
   "source": [
    "import json\n",
    "with open('params_class','r') as f:\n",
    "    best_param=json.load(f)"
   ]
  },
  {
   "cell_type": "code",
   "execution_count": 18,
   "metadata": {},
   "outputs": [
    {
     "data": {
      "text/plain": [
       "{'params': {'base_score': 0.5,\n",
       "  'booster': 'gbtree',\n",
       "  'colsample_bylevel': 1,\n",
       "  'colsample_bynode': 1,\n",
       "  'colsample_bytree': 0.66,\n",
       "  'gamma': 0,\n",
       "  'gpu_id': 0,\n",
       "  'learning_rate': 0.05,\n",
       "  'max_delta_step': 1,\n",
       "  'max_depth': 8,\n",
       "  'min_child_weight': 5,\n",
       "  'missing': None,\n",
       "  'n_estimators': 1500,\n",
       "  'n_jobs': 1,\n",
       "  'nthread': None,\n",
       "  'objective': 'binary:logistic',\n",
       "  'random_state': 0,\n",
       "  'reg_alpha': 0,\n",
       "  'reg_lambda': 1,\n",
       "  'scale_pos_weight': 1,\n",
       "  'seed': 123,\n",
       "  'silent': None,\n",
       "  'subsample': 0.53,\n",
       "  'tree_method': 'gpu_hist',\n",
       "  'verbosity': 1},\n",
       " 'results': {'fp_types': 'AtomPairFP_MorganFP_AvalonFP',\n",
       "  'model': 'xgb',\n",
       "  'seed': 1,\n",
       "  'test_roc_auc': 0.9295218351557525,\n",
       "  'test_roc_aucs': '[0.9295218351557525]',\n",
       "  'time_fit': 25.68925952911377,\n",
       "  'valid_roc_auc': 0.9343158953722335,\n",
       "  'valid_roc_aucs': '[0.9343158953722335]',\n",
       "  'values_col': 'act4'}}"
      ]
     },
     "execution_count": 18,
     "metadata": {},
     "output_type": "execute_result"
    }
   ],
   "source": [
    "best_param"
   ]
  },
  {
   "cell_type": "code",
   "execution_count": 19,
   "metadata": {},
   "outputs": [],
   "source": [
    "use_param=best_param['params']"
   ]
  },
  {
   "cell_type": "code",
   "execution_count": 20,
   "metadata": {},
   "outputs": [
    {
     "data": {
      "text/plain": [
       "{'base_score': 0.5,\n",
       " 'booster': 'gbtree',\n",
       " 'colsample_bylevel': 1,\n",
       " 'colsample_bynode': 1,\n",
       " 'colsample_bytree': 0.66,\n",
       " 'gamma': 0,\n",
       " 'gpu_id': 0,\n",
       " 'learning_rate': 0.05,\n",
       " 'max_delta_step': 1,\n",
       " 'max_depth': 8,\n",
       " 'min_child_weight': 5,\n",
       " 'missing': None,\n",
       " 'n_estimators': 1500,\n",
       " 'n_jobs': 1,\n",
       " 'nthread': None,\n",
       " 'objective': 'binary:logistic',\n",
       " 'random_state': 0,\n",
       " 'reg_alpha': 0,\n",
       " 'reg_lambda': 1,\n",
       " 'scale_pos_weight': 1,\n",
       " 'seed': 123,\n",
       " 'silent': None,\n",
       " 'subsample': 0.53,\n",
       " 'tree_method': 'gpu_hist',\n",
       " 'verbosity': 1}"
      ]
     },
     "execution_count": 20,
     "metadata": {},
     "output_type": "execute_result"
    }
   ],
   "source": [
    "use_param"
   ]
  },
  {
   "cell_type": "markdown",
   "metadata": {},
   "source": [
    "# define xgboost classification model"
   ]
  },
  {
   "cell_type": "code",
   "execution_count": 21,
   "metadata": {},
   "outputs": [],
   "source": [
    "clf=xgboost.XGBClassifier(**use_param)"
   ]
  },
  {
   "cell_type": "code",
   "execution_count": 22,
   "metadata": {
    "scrolled": true
   },
   "outputs": [
    {
     "name": "stdout",
     "output_type": "stream",
     "text": [
      "clf =  XGBClassifier(colsample_bytree=0.66, gpu_id=0, learning_rate=0.05,\n",
      "              max_delta_step=1, max_depth=8, min_child_weight=5,\n",
      "              n_estimators=1500, seed=123, subsample=0.53,\n",
      "              tree_method='gpu_hist')\n"
     ]
    }
   ],
   "source": [
    "print('clf = ',clf)"
   ]
  },
  {
   "cell_type": "markdown",
   "metadata": {},
   "source": [
    "# training xgb using training dataset"
   ]
  },
  {
   "cell_type": "code",
   "execution_count": 23,
   "metadata": {},
   "outputs": [
    {
     "name": "stdout",
     "output_type": "stream",
     "text": [
      "fit time is: 55.349159717559814\n"
     ]
    }
   ],
   "source": [
    "time1=time.time()\n",
    "model=clf.fit(X, y)\n",
    "time2=time.time()\n",
    "time_fit=time2-time1\n",
    "print(f\"fit time is: {time_fit}\")"
   ]
  },
  {
   "cell_type": "markdown",
   "metadata": {},
   "source": [
    "# evaluating the performance by valid and test dataset"
   ]
  },
  {
   "cell_type": "code",
   "execution_count": 25,
   "metadata": {},
   "outputs": [
    {
     "data": {
      "text/plain": [
       "array([[2.5838614e-04, 9.9974161e-01],\n",
       "       [1.9616485e-03, 9.9803835e-01],\n",
       "       [3.8714582e-01, 6.1285418e-01],\n",
       "       ...,\n",
       "       [3.5385489e-03, 9.9646145e-01],\n",
       "       [1.8198323e-01, 8.1801677e-01],\n",
       "       [1.5120411e-01, 8.4879589e-01]], dtype=float32)"
      ]
     },
     "execution_count": 25,
     "metadata": {},
     "output_type": "execute_result"
    }
   ],
   "source": [
    "clf.predict_proba(X_test)"
   ]
  },
  {
   "cell_type": "code",
   "execution_count": 26,
   "metadata": {},
   "outputs": [
    {
     "data": {
      "text/plain": [
       "array([[0.98645663, 0.01354336],\n",
       "       [0.07401276, 0.92598724],\n",
       "       [0.99448264, 0.00551737],\n",
       "       ...,\n",
       "       [0.78553116, 0.21446887],\n",
       "       [0.94328004, 0.05671994],\n",
       "       [0.01339525, 0.98660475]], dtype=float32)"
      ]
     },
     "execution_count": 26,
     "metadata": {},
     "output_type": "execute_result"
    }
   ],
   "source": [
    "clf.predict_proba(X_valid)"
   ]
  },
  {
   "cell_type": "code",
   "execution_count": 28,
   "metadata": {
    "scrolled": true
   },
   "outputs": [
    {
     "data": {
      "text/plain": [
       "array([0.9997416 , 0.99803835, 0.6128542 ], dtype=float32)"
      ]
     },
     "execution_count": 28,
     "metadata": {},
     "output_type": "execute_result"
    }
   ],
   "source": [
    "clf.predict_proba(X_test)[:3,1]"
   ]
  },
  {
   "cell_type": "code",
   "execution_count": 31,
   "metadata": {},
   "outputs": [
    {
     "name": "stdout",
     "output_type": "stream",
     "text": [
      "valid_roc_auc, test_roc_auc =  0.9335311871227363 0.9287698332046121\n"
     ]
    }
   ],
   "source": [
    "test_roc_auc = ROC_AUC(y_test,clf.predict_proba(X_test)[:, 1])\n",
    "valid_roc_auc = ROC_AUC(y_valid,clf.predict_proba(X_valid)[:, 1])\n",
    "print('valid_roc_auc, test_roc_auc = ',valid_roc_auc, test_roc_auc)"
   ]
  },
  {
   "cell_type": "code",
   "execution_count": 34,
   "metadata": {},
   "outputs": [
    {
     "name": "stdout",
     "output_type": "stream",
     "text": [
      "results =  {'seed': 1, 'valid_roc_auc': 0.9335311871227363, 'test_roc_auc': 0.9287698332046121, 'time': 55.349159717559814}\n"
     ]
    }
   ],
   "source": [
    "results = {\"seed\":seed, 'valid_roc_auc':valid_roc_auc,\"test_roc_auc\":test_roc_auc, \"time\":time_fit}\n",
    "print('results = ',results)"
   ]
  },
  {
   "cell_type": "markdown",
   "metadata": {},
   "source": [
    "# change random seed to 8 to split the X0 and Y0, rerun the training and evaluation"
   ]
  },
  {
   "cell_type": "code",
   "execution_count": 35,
   "metadata": {},
   "outputs": [
    {
     "name": "stdout",
     "output_type": "stream",
     "text": [
      "6208 775 775\n",
      "6208 775 775\n"
     ]
    }
   ],
   "source": [
    "seed = 8\n",
    "train_idx, valid_idx, test_idx = random_split(df,random_state=seed)\n",
    "train_idx = [i for i in train_idx if i < len(df)]\n",
    "valid_idx = [i for i in valid_idx if i < len(df)]\t\n",
    "test_idx = [i for i in test_idx if i < len(df)]\t\n",
    "print(len(train_idx), len(valid_idx), len(test_idx)) \n",
    "X = X0[train_idx]; y = Y0[train_idx]\n",
    "X_valid = X0[valid_idx];y_valid = Y0[valid_idx]\n",
    "X_test = X0[test_idx]; y_test = Y0[test_idx] "
   ]
  },
  {
   "cell_type": "markdown",
   "metadata": {},
   "source": [
    "# re-define xgb model"
   ]
  },
  {
   "cell_type": "code",
   "execution_count": 37,
   "metadata": {},
   "outputs": [],
   "source": [
    "clf=''\n",
    "clf=xgboost.XGBClassifier(**use_param)"
   ]
  },
  {
   "cell_type": "code",
   "execution_count": 38,
   "metadata": {},
   "outputs": [
    {
     "name": "stdout",
     "output_type": "stream",
     "text": [
      "fit time is: 55.828707456588745\n",
      "valid_roc_auc, test_roc_auc =  0.9356163645667808 0.9373565763517051\n",
      "results =  {'seed': 8, 'valid_roc_auc': 0.9356163645667808, 'test_roc_auc': 0.9373565763517051, 'time': 55.828707456588745}\n"
     ]
    }
   ],
   "source": [
    "time1=time.time()\n",
    "model=clf.fit(X, y)\n",
    "time2=time.time()\n",
    "time_fit=time2-time1\n",
    "print(f\"fit time is: {time_fit}\")\n",
    "test_roc_auc = ROC_AUC(y_test,clf.predict_proba(X_test)[:, 1])\n",
    "valid_roc_auc = ROC_AUC(y_valid,clf.predict_proba(X_valid)[:, 1])\n",
    "print('valid_roc_auc, test_roc_auc = ',valid_roc_auc, test_roc_auc)\n",
    "results = {\"seed\":seed, 'valid_roc_auc':valid_roc_auc,\"test_roc_auc\":test_roc_auc, \"time\":time_fit}\n",
    "print('results = ',results)"
   ]
  },
  {
   "cell_type": "code",
   "execution_count": null,
   "metadata": {},
   "outputs": [],
   "source": []
  }
 ],
 "metadata": {
  "kernelspec": {
   "display_name": "Python 3",
   "language": "python",
   "name": "python3"
  },
  "language_info": {
   "codemirror_mode": {
    "name": "ipython",
    "version": 3
   },
   "file_extension": ".py",
   "mimetype": "text/x-python",
   "name": "python",
   "nbconvert_exporter": "python",
   "pygments_lexer": "ipython3",
   "version": "3.7.1"
  }
 },
 "nbformat": 4,
 "nbformat_minor": 5
}
