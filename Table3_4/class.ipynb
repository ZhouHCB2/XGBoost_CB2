{
 "cells": [
  {
   "cell_type": "markdown",
   "metadata": {},
   "source": [
    "# Mo_ma_c"
   ]
  },
  {
   "cell_type": "code",
   "execution_count": 1,
   "metadata": {},
   "outputs": [],
   "source": [
    "import sys\n",
    "sys.path.append('/home/phzd/AI/bidd-molmap_v1_3')\n",
    "from sklearn.neighbors import KNeighborsClassifier, KNeighborsRegressor\n",
    "from sklearn.metrics import roc_auc_score, precision_recall_curve\n",
    "from sklearn.metrics import auc as calculate_auc\n",
    "from sklearn.metrics import mean_squared_error\n",
    "from sklearn.metrics import accuracy_score\n",
    "from tqdm import tqdm\n",
    "from sklearn.utils import shuffle \n",
    "from joblib import load, dump\n",
    "import numpy as np\n",
    "import pandas as pd\n",
    "import os,time,json\n",
    "from molmap import feature,loadmap\n",
    "from scipy.stats.stats import pearsonr\n",
    "from argparse import ArgumentParser\n",
    "import xgboost\n",
    "import shap"
   ]
  },
  {
   "cell_type": "code",
   "execution_count": 2,
   "metadata": {},
   "outputs": [],
   "source": [
    "def PRC_AUC(y_true, y_score):\n",
    "\tprecision, recall, threshold  = precision_recall_curve(y_true, y_score) #PRC_AUC\n",
    "\tauc = calculate_auc(recall, precision)\n",
    "\treturn auc\n",
    "\n",
    "def ROC_AUC(y_true, y_score):\n",
    "\tauc = roc_auc_score(y_true, y_score)\n",
    "\treturn auc"
   ]
  },
  {
   "cell_type": "code",
   "execution_count": 3,
   "metadata": {},
   "outputs": [
    {
     "data": {
      "text/plain": [
       "7758"
      ]
     },
     "execution_count": 3,
     "metadata": {},
     "output_type": "execute_result"
    }
   ],
   "source": [
    "df=pd.read_csv('ChblClass7758_fillNullWith0.csv')\n",
    "Y0 = df['active'].astype('int').values\n",
    "len(Y0)"
   ]
  },
  {
   "cell_type": "code",
   "execution_count": 4,
   "metadata": {},
   "outputs": [
    {
     "data": {
      "text/plain": [
       "7758"
      ]
     },
     "execution_count": 4,
     "metadata": {},
     "output_type": "execute_result"
    }
   ],
   "source": [
    "X0=pd.read_csv('Mo_ma_c.csv')\n",
    "len(X0)"
   ]
  },
  {
   "cell_type": "code",
   "execution_count": 5,
   "metadata": {},
   "outputs": [],
   "source": [
    "def random_split(df, random_state, split_size = [0.8, 0.1, 0.1]):\n",
    "\tbase_indices = np.arange(len(df)) \n",
    "\tbase_indices = shuffle(base_indices, random_state = random_state) \n",
    "\tnb_test = int(len(base_indices) * split_size[2]) \n",
    "\tnb_val = int(len(base_indices) * split_size[1]) \n",
    "\ttest_idx = base_indices[0:nb_test] \n",
    "\tvalid_idx = base_indices[(nb_test):(nb_test+nb_val)] \n",
    "\ttrain_idx = base_indices[(nb_test+nb_val):len(base_indices)] \n",
    "\tprint(len(train_idx), len(valid_idx), len(test_idx)) \n",
    "\treturn train_idx, valid_idx, test_idx "
   ]
  },
  {
   "cell_type": "code",
   "execution_count": 6,
   "metadata": {},
   "outputs": [
    {
     "name": "stdout",
     "output_type": "stream",
     "text": [
      "6208 775 775\n",
      "6208 775 775\n"
     ]
    }
   ],
   "source": [
    "seed = 1\n",
    "X0=X0.values\n",
    "train_idx, valid_idx, test_idx = random_split(df,random_state=seed)\n",
    "train_idx = [i for i in train_idx if i < len(df)]\n",
    "valid_idx = [i for i in valid_idx if i < len(df)]\t\n",
    "test_idx = [i for i in test_idx if i < len(df)]\t\n",
    "print(len(train_idx), len(valid_idx), len(test_idx)) \n",
    "X = X0[train_idx]; y = Y0[train_idx]\n",
    "X_valid = X0[valid_idx];y_valid = Y0[valid_idx]\n",
    "X_test = X0[test_idx]; y_test = Y0[test_idx] "
   ]
  },
  {
   "cell_type": "code",
   "execution_count": 6,
   "metadata": {},
   "outputs": [],
   "source": [
    "import json\n",
    "with open('params_class','r') as f:\n",
    "    best_param=json.load(f)"
   ]
  },
  {
   "cell_type": "code",
   "execution_count": 7,
   "metadata": {},
   "outputs": [
    {
     "data": {
      "text/plain": [
       "{'base_score': 0.5,\n",
       " 'booster': 'gbtree',\n",
       " 'colsample_bylevel': 1,\n",
       " 'colsample_bynode': 1,\n",
       " 'colsample_bytree': 0.66,\n",
       " 'gamma': 0,\n",
       " 'gpu_id': 0,\n",
       " 'learning_rate': 0.05,\n",
       " 'max_delta_step': 1,\n",
       " 'max_depth': 8,\n",
       " 'min_child_weight': 5,\n",
       " 'missing': None,\n",
       " 'n_estimators': 1500,\n",
       " 'n_jobs': 1,\n",
       " 'nthread': None,\n",
       " 'objective': 'binary:logistic',\n",
       " 'random_state': 0,\n",
       " 'reg_alpha': 0,\n",
       " 'reg_lambda': 1,\n",
       " 'scale_pos_weight': 1,\n",
       " 'seed': 123,\n",
       " 'silent': None,\n",
       " 'subsample': 0.53,\n",
       " 'tree_method': 'gpu_hist',\n",
       " 'verbosity': 1}"
      ]
     },
     "execution_count": 7,
     "metadata": {},
     "output_type": "execute_result"
    }
   ],
   "source": [
    "best_param['params']"
   ]
  },
  {
   "cell_type": "code",
   "execution_count": 8,
   "metadata": {},
   "outputs": [],
   "source": [
    "use_param=best_param['params']\n",
    "for item in ['gpu_id','tree_method','missing']:\n",
    "    use_param.pop(item)\n",
    "use_param.update({'n_jobs': -1})"
   ]
  },
  {
   "cell_type": "code",
   "execution_count": 9,
   "metadata": {},
   "outputs": [],
   "source": [
    "import time\n",
    "clf=xgboost.XGBClassifier(**use_param)"
   ]
  },
  {
   "cell_type": "code",
   "execution_count": 11,
   "metadata": {},
   "outputs": [
    {
     "name": "stderr",
     "output_type": "stream",
     "text": [
      "The use of label encoder in XGBClassifier is deprecated and will be removed in a future release. To remove this warning, do the following: 1) Pass option use_label_encoder=False when constructing XGBClassifier object; and 2) Encode your labels (y) as integers starting with 0, i.e. 0, 1, 2, ..., [num_class - 1].\n"
     ]
    },
    {
     "name": "stdout",
     "output_type": "stream",
     "text": [
      "[10:19:18] WARNING: C:/Users/Administrator/workspace/xgboost-win64_release_1.4.0/src/learner.cc:1095: Starting in XGBoost 1.3.0, the default evaluation metric used with the objective 'binary:logistic' was changed from 'error' to 'logloss'. Explicitly set eval_metric if you'd like to restore the old behavior.\n",
      "fit time is: 124.2902364730835\n"
     ]
    }
   ],
   "source": [
    "time1=time.time()\n",
    "model=clf.fit(X, y)\n",
    "time2=time.time()\n",
    "time_fit=time2-time1\n",
    "print(f\"fit time is: {time_fit}\")"
   ]
  },
  {
   "cell_type": "code",
   "execution_count": 12,
   "metadata": {},
   "outputs": [
    {
     "data": {
      "text/plain": [
       "array([[5.3459406e-04, 9.9946541e-01],\n",
       "       [1.4466226e-02, 9.8553377e-01],\n",
       "       [8.1857109e-01, 1.8142889e-01],\n",
       "       ...,\n",
       "       [2.4056196e-02, 9.7594380e-01],\n",
       "       [6.6141033e-01, 3.3858967e-01],\n",
       "       [3.1253576e-01, 6.8746424e-01]], dtype=float32)"
      ]
     },
     "execution_count": 12,
     "metadata": {},
     "output_type": "execute_result"
    }
   ],
   "source": [
    "clf.predict_proba(X_test)"
   ]
  },
  {
   "cell_type": "code",
   "execution_count": 13,
   "metadata": {},
   "outputs": [
    {
     "data": {
      "text/plain": [
       "array([[0.9627813 , 0.03721868],\n",
       "       [0.21463841, 0.7853616 ],\n",
       "       [0.99759376, 0.00240623],\n",
       "       ...,\n",
       "       [0.6369529 , 0.36304715],\n",
       "       [0.948519  , 0.05148104],\n",
       "       [0.00179553, 0.99820447]], dtype=float32)"
      ]
     },
     "execution_count": 13,
     "metadata": {},
     "output_type": "execute_result"
    }
   ],
   "source": [
    "clf.predict_proba(X_valid)"
   ]
  },
  {
   "cell_type": "code",
   "execution_count": 14,
   "metadata": {},
   "outputs": [
    {
     "data": {
      "text/plain": [
       "array([0.9994654, 0.9855338, 0.1814289], dtype=float32)"
      ]
     },
     "execution_count": 14,
     "metadata": {},
     "output_type": "execute_result"
    }
   ],
   "source": [
    "clf.predict_proba(X_test)[:3,1]"
   ]
  },
  {
   "cell_type": "code",
   "execution_count": 15,
   "metadata": {},
   "outputs": [
    {
     "name": "stdout",
     "output_type": "stream",
     "text": [
      "valid_roc_auc, test_roc_auc =  0.9264889336016097 0.925734726230641\n"
     ]
    }
   ],
   "source": [
    "test_roc_auc = ROC_AUC(y_test,clf.predict_proba(X_test)[:, 1])\n",
    "valid_roc_auc = ROC_AUC(y_valid,clf.predict_proba(X_valid)[:, 1])\n",
    "print('valid_roc_auc, test_roc_auc = ',valid_roc_auc, test_roc_auc)"
   ]
  },
  {
   "cell_type": "code",
   "execution_count": 45,
   "metadata": {},
   "outputs": [
    {
     "name": "stdout",
     "output_type": "stream",
     "text": [
      "6208 775 775\n",
      "6208 775 775\n"
     ]
    }
   ],
   "source": [
    "seed = 2\n",
    "X0=X0.values\n",
    "train_idx, valid_idx, test_idx = random_split(df,random_state=seed)\n",
    "train_idx = [i for i in train_idx if i < len(df)]\n",
    "valid_idx = [i for i in valid_idx if i < len(df)]\t\n",
    "test_idx = [i for i in test_idx if i < len(df)]\t\n",
    "print(len(train_idx), len(valid_idx), len(test_idx)) \n",
    "X = X0[train_idx]; y = Y0[train_idx]\n",
    "X_valid = X0[valid_idx];y_valid = Y0[valid_idx]\n",
    "X_test = X0[test_idx]; y_test = Y0[test_idx] "
   ]
  },
  {
   "cell_type": "code",
   "execution_count": 49,
   "metadata": {},
   "outputs": [],
   "source": [
    "clf=''\n",
    "clf=xgboost.XGBClassifier(**use_param)"
   ]
  },
  {
   "cell_type": "code",
   "execution_count": 50,
   "metadata": {},
   "outputs": [
    {
     "name": "stderr",
     "output_type": "stream",
     "text": [
      "The use of label encoder in XGBClassifier is deprecated and will be removed in a future release. To remove this warning, do the following: 1) Pass option use_label_encoder=False when constructing XGBClassifier object; and 2) Encode your labels (y) as integers starting with 0, i.e. 0, 1, 2, ..., [num_class - 1].\n"
     ]
    },
    {
     "name": "stdout",
     "output_type": "stream",
     "text": [
      "[15:41:33] WARNING: C:/Users/Administrator/workspace/xgboost-win64_release_1.4.0/src/learner.cc:1095: Starting in XGBoost 1.3.0, the default evaluation metric used with the objective 'binary:logistic' was changed from 'error' to 'logloss'. Explicitly set eval_metric if you'd like to restore the old behavior.\n",
      "fit time is: 136.83449602127075\n",
      "valid_roc_auc, test_roc_auc =  0.9182776683680989 0.9221967963386726\n"
     ]
    }
   ],
   "source": [
    "time1=time.time()\n",
    "model=clf.fit(X, y)\n",
    "time2=time.time()\n",
    "time_fit=time2-time1\n",
    "print(f\"fit time is: {time_fit}\")\n",
    "test_roc_auc = ROC_AUC(y_test,clf.predict_proba(X_test)[:, 1])\n",
    "valid_roc_auc = ROC_AUC(y_valid,clf.predict_proba(X_valid)[:, 1])\n",
    "print('valid_roc_auc, test_roc_auc = ',valid_roc_auc, test_roc_auc)"
   ]
  },
  {
   "cell_type": "code",
   "execution_count": 10,
   "metadata": {},
   "outputs": [
    {
     "name": "stdout",
     "output_type": "stream",
     "text": [
      "6208 775 775\n"
     ]
    },
    {
     "name": "stderr",
     "output_type": "stream",
     "text": [
      "The use of label encoder in XGBClassifier is deprecated and will be removed in a future release. To remove this warning, do the following: 1) Pass option use_label_encoder=False when constructing XGBClassifier object; and 2) Encode your labels (y) as integers starting with 0, i.e. 0, 1, 2, ..., [num_class - 1].\n"
     ]
    },
    {
     "name": "stdout",
     "output_type": "stream",
     "text": [
      "[15:46:21] WARNING: C:/Users/Administrator/workspace/xgboost-win64_release_1.4.0/src/learner.cc:1095: Starting in XGBoost 1.3.0, the default evaluation metric used with the objective 'binary:logistic' was changed from 'error' to 'logloss'. Explicitly set eval_metric if you'd like to restore the old behavior.\n",
      "fit time is: 121.98517608642578\n",
      "valid_roc_auc, test_roc_auc =  0.9240026773761714 0.9277455278612217\n",
      "6208 775 775\n"
     ]
    },
    {
     "name": "stderr",
     "output_type": "stream",
     "text": [
      "The use of label encoder in XGBClassifier is deprecated and will be removed in a future release. To remove this warning, do the following: 1) Pass option use_label_encoder=False when constructing XGBClassifier object; and 2) Encode your labels (y) as integers starting with 0, i.e. 0, 1, 2, ..., [num_class - 1].\n"
     ]
    },
    {
     "name": "stdout",
     "output_type": "stream",
     "text": [
      "[15:48:23] WARNING: C:/Users/Administrator/workspace/xgboost-win64_release_1.4.0/src/learner.cc:1095: Starting in XGBoost 1.3.0, the default evaluation metric used with the objective 'binary:logistic' was changed from 'error' to 'logloss'. Explicitly set eval_metric if you'd like to restore the old behavior.\n",
      "fit time is: 131.54975700378418\n",
      "valid_roc_auc, test_roc_auc =  0.9271458967383986 0.9350349584658534\n",
      "6208 775 775\n"
     ]
    },
    {
     "name": "stderr",
     "output_type": "stream",
     "text": [
      "The use of label encoder in XGBClassifier is deprecated and will be removed in a future release. To remove this warning, do the following: 1) Pass option use_label_encoder=False when constructing XGBClassifier object; and 2) Encode your labels (y) as integers starting with 0, i.e. 0, 1, 2, ..., [num_class - 1].\n"
     ]
    },
    {
     "name": "stdout",
     "output_type": "stream",
     "text": [
      "[15:50:35] WARNING: C:/Users/Administrator/workspace/xgboost-win64_release_1.4.0/src/learner.cc:1095: Starting in XGBoost 1.3.0, the default evaluation metric used with the objective 'binary:logistic' was changed from 'error' to 'logloss'. Explicitly set eval_metric if you'd like to restore the old behavior.\n",
      "fit time is: 133.99381256103516\n",
      "valid_roc_auc, test_roc_auc =  0.9162354986054408 0.9365793449522474\n",
      "6208 775 775\n"
     ]
    },
    {
     "name": "stderr",
     "output_type": "stream",
     "text": [
      "The use of label encoder in XGBClassifier is deprecated and will be removed in a future release. To remove this warning, do the following: 1) Pass option use_label_encoder=False when constructing XGBClassifier object; and 2) Encode your labels (y) as integers starting with 0, i.e. 0, 1, 2, ..., [num_class - 1].\n"
     ]
    },
    {
     "name": "stdout",
     "output_type": "stream",
     "text": [
      "[15:52:49] WARNING: C:/Users/Administrator/workspace/xgboost-win64_release_1.4.0/src/learner.cc:1095: Starting in XGBoost 1.3.0, the default evaluation metric used with the objective 'binary:logistic' was changed from 'error' to 'logloss'. Explicitly set eval_metric if you'd like to restore the old behavior.\n",
      "fit time is: 137.11903476715088\n",
      "valid_roc_auc, test_roc_auc =  0.9284383191349934 0.9271567948038537\n",
      "6208 775 775\n"
     ]
    },
    {
     "name": "stderr",
     "output_type": "stream",
     "text": [
      "The use of label encoder in XGBClassifier is deprecated and will be removed in a future release. To remove this warning, do the following: 1) Pass option use_label_encoder=False when constructing XGBClassifier object; and 2) Encode your labels (y) as integers starting with 0, i.e. 0, 1, 2, ..., [num_class - 1].\n"
     ]
    },
    {
     "name": "stdout",
     "output_type": "stream",
     "text": [
      "[15:55:07] WARNING: C:/Users/Administrator/workspace/xgboost-win64_release_1.4.0/src/learner.cc:1095: Starting in XGBoost 1.3.0, the default evaluation metric used with the objective 'binary:logistic' was changed from 'error' to 'logloss'. Explicitly set eval_metric if you'd like to restore the old behavior.\n",
      "fit time is: 136.01686835289001\n",
      "valid_roc_auc, test_roc_auc =  0.9241307634164777 0.9284267250111422\n",
      "6208 775 775\n"
     ]
    },
    {
     "name": "stderr",
     "output_type": "stream",
     "text": [
      "The use of label encoder in XGBClassifier is deprecated and will be removed in a future release. To remove this warning, do the following: 1) Pass option use_label_encoder=False when constructing XGBClassifier object; and 2) Encode your labels (y) as integers starting with 0, i.e. 0, 1, 2, ..., [num_class - 1].\n"
     ]
    },
    {
     "name": "stdout",
     "output_type": "stream",
     "text": [
      "[15:57:23] WARNING: C:/Users/Administrator/workspace/xgboost-win64_release_1.4.0/src/learner.cc:1095: Starting in XGBoost 1.3.0, the default evaluation metric used with the objective 'binary:logistic' was changed from 'error' to 'logloss'. Explicitly set eval_metric if you'd like to restore the old behavior.\n",
      "fit time is: 134.40759181976318\n",
      "valid_roc_auc, test_roc_auc =  0.9198531110295816 0.9177789046653144\n",
      "6208 775 775\n"
     ]
    },
    {
     "name": "stderr",
     "output_type": "stream",
     "text": [
      "The use of label encoder in XGBClassifier is deprecated and will be removed in a future release. To remove this warning, do the following: 1) Pass option use_label_encoder=False when constructing XGBClassifier object; and 2) Encode your labels (y) as integers starting with 0, i.e. 0, 1, 2, ..., [num_class - 1].\n"
     ]
    },
    {
     "name": "stdout",
     "output_type": "stream",
     "text": [
      "[15:59:38] WARNING: C:/Users/Administrator/workspace/xgboost-win64_release_1.4.0/src/learner.cc:1095: Starting in XGBoost 1.3.0, the default evaluation metric used with the objective 'binary:logistic' was changed from 'error' to 'logloss'. Explicitly set eval_metric if you'd like to restore the old behavior.\n",
      "fit time is: 139.34256625175476\n",
      "valid_roc_auc, test_roc_auc =  0.9172702883970489 0.9368251268761472\n",
      "6208 775 775\n"
     ]
    },
    {
     "name": "stderr",
     "output_type": "stream",
     "text": [
      "The use of label encoder in XGBClassifier is deprecated and will be removed in a future release. To remove this warning, do the following: 1) Pass option use_label_encoder=False when constructing XGBClassifier object; and 2) Encode your labels (y) as integers starting with 0, i.e. 0, 1, 2, ..., [num_class - 1].\n"
     ]
    },
    {
     "name": "stdout",
     "output_type": "stream",
     "text": [
      "[16:01:57] WARNING: C:/Users/Administrator/workspace/xgboost-win64_release_1.4.0/src/learner.cc:1095: Starting in XGBoost 1.3.0, the default evaluation metric used with the objective 'binary:logistic' was changed from 'error' to 'logloss'. Explicitly set eval_metric if you'd like to restore the old behavior.\n",
      "fit time is: 135.3521158695221\n",
      "valid_roc_auc, test_roc_auc =  0.9272973955668076 0.9255362614913177\n"
     ]
    }
   ],
   "source": [
    "seeds = [4,8,16,32,64,128,256,512]\n",
    "X0=X0.values\n",
    "for seed in seeds:\n",
    "    train_idx, valid_idx, test_idx = random_split(df,random_state=seed)\n",
    "    train_idx = [i for i in train_idx if i < len(df)]\n",
    "    valid_idx = [i for i in valid_idx if i < len(df)]\t\n",
    "    test_idx = [i for i in test_idx if i < len(df)]\t \n",
    "    X = X0[train_idx]; y = Y0[train_idx]\n",
    "    X_valid = X0[valid_idx];y_valid = Y0[valid_idx]\n",
    "    X_test = X0[test_idx]; y_test = Y0[test_idx]\n",
    "    clf=''\n",
    "    clf=xgboost.XGBClassifier(**use_param)\n",
    "    time1=time.time()\n",
    "    model=clf.fit(X, y)\n",
    "    time2=time.time()\n",
    "    time_fit=time2-time1\n",
    "    print(f\"fit time is: {time_fit}\")\n",
    "    test_roc_auc = ROC_AUC(y_test,clf.predict_proba(X_test)[:, 1])\n",
    "    valid_roc_auc = ROC_AUC(y_valid,clf.predict_proba(X_valid)[:, 1])\n",
    "    print('valid_roc_auc, test_roc_auc = ',valid_roc_auc, test_roc_auc)"
   ]
  },
  {
   "cell_type": "markdown",
   "metadata": {},
   "source": [
    "# Mo_Pu"
   ]
  },
  {
   "cell_type": "code",
   "execution_count": 16,
   "metadata": {},
   "outputs": [
    {
     "data": {
      "text/plain": [
       "7758"
      ]
     },
     "execution_count": 16,
     "metadata": {},
     "output_type": "execute_result"
    }
   ],
   "source": [
    "X0=pd.read_csv('Mo_Pu_c.csv')\n",
    "len(X0)"
   ]
  },
  {
   "cell_type": "code",
   "execution_count": 17,
   "metadata": {},
   "outputs": [],
   "source": [
    "def random_split(df, random_state, split_size = [0.8, 0.1, 0.1]):\n",
    "\tbase_indices = np.arange(len(df)) \n",
    "\tbase_indices = shuffle(base_indices, random_state = random_state) \n",
    "\tnb_test = int(len(base_indices) * split_size[2]) \n",
    "\tnb_val = int(len(base_indices) * split_size[1]) \n",
    "\ttest_idx = base_indices[0:nb_test] \n",
    "\tvalid_idx = base_indices[(nb_test):(nb_test+nb_val)] \n",
    "\ttrain_idx = base_indices[(nb_test+nb_val):len(base_indices)] \n",
    "\tprint(len(train_idx), len(valid_idx), len(test_idx)) \n",
    "\treturn train_idx, valid_idx, test_idx "
   ]
  },
  {
   "cell_type": "code",
   "execution_count": 18,
   "metadata": {},
   "outputs": [
    {
     "name": "stdout",
     "output_type": "stream",
     "text": [
      "6208 775 775\n",
      "6208 775 775\n"
     ]
    }
   ],
   "source": [
    "seed = 1\n",
    "X0=X0.values\n",
    "train_idx, valid_idx, test_idx = random_split(df,random_state=seed)\n",
    "train_idx = [i for i in train_idx if i < len(df)]\n",
    "valid_idx = [i for i in valid_idx if i < len(df)]\t\n",
    "test_idx = [i for i in test_idx if i < len(df)]\t\n",
    "print(len(train_idx), len(valid_idx), len(test_idx)) \n",
    "X = X0[train_idx]; y = Y0[train_idx]\n",
    "X_valid = X0[valid_idx];y_valid = Y0[valid_idx]\n",
    "X_test = X0[test_idx]; y_test = Y0[test_idx]"
   ]
  },
  {
   "cell_type": "code",
   "execution_count": 19,
   "metadata": {},
   "outputs": [
    {
     "name": "stderr",
     "output_type": "stream",
     "text": [
      "The use of label encoder in XGBClassifier is deprecated and will be removed in a future release. To remove this warning, do the following: 1) Pass option use_label_encoder=False when constructing XGBClassifier object; and 2) Encode your labels (y) as integers starting with 0, i.e. 0, 1, 2, ..., [num_class - 1].\n"
     ]
    },
    {
     "name": "stdout",
     "output_type": "stream",
     "text": [
      "[10:48:35] WARNING: C:/Users/Administrator/workspace/xgboost-win64_release_1.4.0/src/learner.cc:1095: Starting in XGBoost 1.3.0, the default evaluation metric used with the objective 'binary:logistic' was changed from 'error' to 'logloss'. Explicitly set eval_metric if you'd like to restore the old behavior.\n",
      "fit time is: 168.5464906692505\n"
     ]
    }
   ],
   "source": [
    "import time\n",
    "clf=xgboost.XGBClassifier(**use_param)\n",
    "time1=time.time()\n",
    "model=clf.fit(X, y)\n",
    "time2=time.time()\n",
    "time_fit=time2-time1\n",
    "print(f\"fit time is: {time_fit}\")"
   ]
  },
  {
   "cell_type": "code",
   "execution_count": 23,
   "metadata": {},
   "outputs": [
    {
     "name": "stdout",
     "output_type": "stream",
     "text": [
      "valid_roc_auc, test_roc_auc =  0.9305197853789403 0.9266696475753018\n"
     ]
    }
   ],
   "source": [
    "test_roc_auc = ROC_AUC(y_test,clf.predict_proba(X_test)[:, 1])\n",
    "valid_roc_auc = ROC_AUC(y_valid,clf.predict_proba(X_valid)[:, 1])\n",
    "print('valid_roc_auc, test_roc_auc = ',valid_roc_auc, test_roc_auc)"
   ]
  },
  {
   "cell_type": "code",
   "execution_count": 11,
   "metadata": {},
   "outputs": [
    {
     "data": {
      "text/plain": [
       "7758"
      ]
     },
     "execution_count": 11,
     "metadata": {},
     "output_type": "execute_result"
    }
   ],
   "source": [
    "X0=pd.read_csv('Mo_Pu_c.csv')\n",
    "len(X0)"
   ]
  },
  {
   "cell_type": "code",
   "execution_count": 12,
   "metadata": {},
   "outputs": [
    {
     "name": "stdout",
     "output_type": "stream",
     "text": [
      "6208 775 775\n"
     ]
    },
    {
     "name": "stderr",
     "output_type": "stream",
     "text": [
      "The use of label encoder in XGBClassifier is deprecated and will be removed in a future release. To remove this warning, do the following: 1) Pass option use_label_encoder=False when constructing XGBClassifier object; and 2) Encode your labels (y) as integers starting with 0, i.e. 0, 1, 2, ..., [num_class - 1].\n"
     ]
    },
    {
     "name": "stdout",
     "output_type": "stream",
     "text": [
      "[16:05:18] WARNING: C:/Users/Administrator/workspace/xgboost-win64_release_1.4.0/src/learner.cc:1095: Starting in XGBoost 1.3.0, the default evaluation metric used with the objective 'binary:logistic' was changed from 'error' to 'logloss'. Explicitly set eval_metric if you'd like to restore the old behavior.\n",
      "fit time is: 180.3265233039856\n",
      "valid_roc_auc, test_roc_auc =  0.9305197853789403 0.9266696475753018\n",
      "6208 775 775\n"
     ]
    },
    {
     "name": "stderr",
     "output_type": "stream",
     "text": [
      "The use of label encoder in XGBClassifier is deprecated and will be removed in a future release. To remove this warning, do the following: 1) Pass option use_label_encoder=False when constructing XGBClassifier object; and 2) Encode your labels (y) as integers starting with 0, i.e. 0, 1, 2, ..., [num_class - 1].\n"
     ]
    },
    {
     "name": "stdout",
     "output_type": "stream",
     "text": [
      "[16:08:19] WARNING: C:/Users/Administrator/workspace/xgboost-win64_release_1.4.0/src/learner.cc:1095: Starting in XGBoost 1.3.0, the default evaluation metric used with the objective 'binary:logistic' was changed from 'error' to 'logloss'. Explicitly set eval_metric if you'd like to restore the old behavior.\n",
      "fit time is: 184.42662978172302\n",
      "valid_roc_auc, test_roc_auc =  0.9196508714815856 0.922142634693242\n",
      "6208 775 775\n"
     ]
    },
    {
     "name": "stderr",
     "output_type": "stream",
     "text": [
      "The use of label encoder in XGBClassifier is deprecated and will be removed in a future release. To remove this warning, do the following: 1) Pass option use_label_encoder=False when constructing XGBClassifier object; and 2) Encode your labels (y) as integers starting with 0, i.e. 0, 1, 2, ..., [num_class - 1].\n"
     ]
    },
    {
     "name": "stdout",
     "output_type": "stream",
     "text": [
      "[16:11:24] WARNING: C:/Users/Administrator/workspace/xgboost-win64_release_1.4.0/src/learner.cc:1095: Starting in XGBoost 1.3.0, the default evaluation metric used with the objective 'binary:logistic' was changed from 'error' to 'logloss'. Explicitly set eval_metric if you'd like to restore the old behavior.\n",
      "fit time is: 182.11846780776978\n",
      "valid_roc_auc, test_roc_auc =  0.9245749665327978 0.9227997889096371\n",
      "6208 775 775\n"
     ]
    },
    {
     "name": "stderr",
     "output_type": "stream",
     "text": [
      "The use of label encoder in XGBClassifier is deprecated and will be removed in a future release. To remove this warning, do the following: 1) Pass option use_label_encoder=False when constructing XGBClassifier object; and 2) Encode your labels (y) as integers starting with 0, i.e. 0, 1, 2, ..., [num_class - 1].\n"
     ]
    },
    {
     "name": "stdout",
     "output_type": "stream",
     "text": [
      "[16:14:26] WARNING: C:/Users/Administrator/workspace/xgboost-win64_release_1.4.0/src/learner.cc:1095: Starting in XGBoost 1.3.0, the default evaluation metric used with the objective 'binary:logistic' was changed from 'error' to 'logloss'. Explicitly set eval_metric if you'd like to restore the old behavior.\n",
      "fit time is: 182.23984479904175\n",
      "valid_roc_auc, test_roc_auc =  0.9337916453446093 0.9388260396956398\n",
      "6208 775 775\n"
     ]
    },
    {
     "name": "stderr",
     "output_type": "stream",
     "text": [
      "The use of label encoder in XGBClassifier is deprecated and will be removed in a future release. To remove this warning, do the following: 1) Pass option use_label_encoder=False when constructing XGBClassifier object; and 2) Encode your labels (y) as integers starting with 0, i.e. 0, 1, 2, ..., [num_class - 1].\n"
     ]
    },
    {
     "name": "stdout",
     "output_type": "stream",
     "text": [
      "[16:17:29] WARNING: C:/Users/Administrator/workspace/xgboost-win64_release_1.4.0/src/learner.cc:1095: Starting in XGBoost 1.3.0, the default evaluation metric used with the objective 'binary:logistic' was changed from 'error' to 'logloss'. Explicitly set eval_metric if you'd like to restore the old behavior.\n",
      "fit time is: 182.58931827545166\n",
      "valid_roc_auc, test_roc_auc =  0.9177782718245145 0.9375033723628122\n",
      "6208 775 775\n"
     ]
    },
    {
     "name": "stderr",
     "output_type": "stream",
     "text": [
      "The use of label encoder in XGBClassifier is deprecated and will be removed in a future release. To remove this warning, do the following: 1) Pass option use_label_encoder=False when constructing XGBClassifier object; and 2) Encode your labels (y) as integers starting with 0, i.e. 0, 1, 2, ..., [num_class - 1].\n"
     ]
    },
    {
     "name": "stdout",
     "output_type": "stream",
     "text": [
      "[16:20:32] WARNING: C:/Users/Administrator/workspace/xgboost-win64_release_1.4.0/src/learner.cc:1095: Starting in XGBoost 1.3.0, the default evaluation metric used with the objective 'binary:logistic' was changed from 'error' to 'logloss'. Explicitly set eval_metric if you'd like to restore the old behavior.\n",
      "fit time is: 184.69202041625977\n",
      "valid_roc_auc, test_roc_auc =  0.929127757754478 0.9296842090959738\n",
      "6208 775 775\n"
     ]
    },
    {
     "name": "stderr",
     "output_type": "stream",
     "text": [
      "The use of label encoder in XGBClassifier is deprecated and will be removed in a future release. To remove this warning, do the following: 1) Pass option use_label_encoder=False when constructing XGBClassifier object; and 2) Encode your labels (y) as integers starting with 0, i.e. 0, 1, 2, ..., [num_class - 1].\n"
     ]
    },
    {
     "name": "stdout",
     "output_type": "stream",
     "text": [
      "[16:23:37] WARNING: C:/Users/Administrator/workspace/xgboost-win64_release_1.4.0/src/learner.cc:1095: Starting in XGBoost 1.3.0, the default evaluation metric used with the objective 'binary:logistic' was changed from 'error' to 'logloss'. Explicitly set eval_metric if you'd like to restore the old behavior.\n",
      "fit time is: 194.68582248687744\n",
      "valid_roc_auc, test_roc_auc =  0.9259596695821186 0.929736774576935\n",
      "6208 775 775\n"
     ]
    },
    {
     "name": "stderr",
     "output_type": "stream",
     "text": [
      "The use of label encoder in XGBClassifier is deprecated and will be removed in a future release. To remove this warning, do the following: 1) Pass option use_label_encoder=False when constructing XGBClassifier object; and 2) Encode your labels (y) as integers starting with 0, i.e. 0, 1, 2, ..., [num_class - 1].\n"
     ]
    },
    {
     "name": "stdout",
     "output_type": "stream",
     "text": [
      "[16:26:52] WARNING: C:/Users/Administrator/workspace/xgboost-win64_release_1.4.0/src/learner.cc:1095: Starting in XGBoost 1.3.0, the default evaluation metric used with the objective 'binary:logistic' was changed from 'error' to 'logloss'. Explicitly set eval_metric if you'd like to restore the old behavior.\n",
      "fit time is: 194.91742539405823\n",
      "valid_roc_auc, test_roc_auc =  0.9212900683488919 0.9215382014874915\n",
      "6208 775 775\n"
     ]
    },
    {
     "name": "stderr",
     "output_type": "stream",
     "text": [
      "The use of label encoder in XGBClassifier is deprecated and will be removed in a future release. To remove this warning, do the following: 1) Pass option use_label_encoder=False when constructing XGBClassifier object; and 2) Encode your labels (y) as integers starting with 0, i.e. 0, 1, 2, ..., [num_class - 1].\n"
     ]
    },
    {
     "name": "stdout",
     "output_type": "stream",
     "text": [
      "[16:30:07] WARNING: C:/Users/Administrator/workspace/xgboost-win64_release_1.4.0/src/learner.cc:1095: Starting in XGBoost 1.3.0, the default evaluation metric used with the objective 'binary:logistic' was changed from 'error' to 'logloss'. Explicitly set eval_metric if you'd like to restore the old behavior.\n",
      "fit time is: 199.99020648002625\n",
      "valid_roc_auc, test_roc_auc =  0.9142655935613682 0.9401455026455027\n",
      "6208 775 775\n"
     ]
    },
    {
     "name": "stderr",
     "output_type": "stream",
     "text": [
      "The use of label encoder in XGBClassifier is deprecated and will be removed in a future release. To remove this warning, do the following: 1) Pass option use_label_encoder=False when constructing XGBClassifier object; and 2) Encode your labels (y) as integers starting with 0, i.e. 0, 1, 2, ..., [num_class - 1].\n"
     ]
    },
    {
     "name": "stdout",
     "output_type": "stream",
     "text": [
      "[16:33:27] WARNING: C:/Users/Administrator/workspace/xgboost-win64_release_1.4.0/src/learner.cc:1095: Starting in XGBoost 1.3.0, the default evaluation metric used with the objective 'binary:logistic' was changed from 'error' to 'logloss'. Explicitly set eval_metric if you'd like to restore the old behavior.\n",
      "fit time is: 198.0845398902893\n",
      "valid_roc_auc, test_roc_auc =  0.9305832368229686 0.9246033367381682\n"
     ]
    }
   ],
   "source": [
    "seeds = [1,2,4,8,16,32,64,128,256,512]\n",
    "X0=X0.values\n",
    "for seed in seeds:\n",
    "    train_idx, valid_idx, test_idx = random_split(df,random_state=seed)\n",
    "    train_idx = [i for i in train_idx if i < len(df)]\n",
    "    valid_idx = [i for i in valid_idx if i < len(df)]\t\n",
    "    test_idx = [i for i in test_idx if i < len(df)]\t \n",
    "    X = X0[train_idx]; y = Y0[train_idx]\n",
    "    X_valid = X0[valid_idx];y_valid = Y0[valid_idx]\n",
    "    X_test = X0[test_idx]; y_test = Y0[test_idx]\n",
    "    clf=''\n",
    "    clf=xgboost.XGBClassifier(**use_param)\n",
    "    time1=time.time()\n",
    "    model=clf.fit(X, y)\n",
    "    time2=time.time()\n",
    "    time_fit=time2-time1\n",
    "    print(f\"fit time is: {time_fit}\")\n",
    "    test_roc_auc = ROC_AUC(y_test,clf.predict_proba(X_test)[:, 1])\n",
    "    valid_roc_auc = ROC_AUC(y_valid,clf.predict_proba(X_valid)[:, 1])\n",
    "    print('valid_roc_auc, test_roc_auc = ',valid_roc_auc, test_roc_auc)"
   ]
  },
  {
   "cell_type": "markdown",
   "metadata": {},
   "source": [
    "# Mo_Pu_Ma"
   ]
  },
  {
   "cell_type": "code",
   "execution_count": 24,
   "metadata": {},
   "outputs": [
    {
     "data": {
      "text/plain": [
       "7758"
      ]
     },
     "execution_count": 24,
     "metadata": {},
     "output_type": "execute_result"
    }
   ],
   "source": [
    "X0=pd.read_csv('Mo_Pu_ma_c.csv')\n",
    "len(X0)"
   ]
  },
  {
   "cell_type": "code",
   "execution_count": 25,
   "metadata": {},
   "outputs": [],
   "source": [
    "def random_split(df, random_state, split_size = [0.8, 0.1, 0.1]):\n",
    "\tbase_indices = np.arange(len(df)) \n",
    "\tbase_indices = shuffle(base_indices, random_state = random_state) \n",
    "\tnb_test = int(len(base_indices) * split_size[2]) \n",
    "\tnb_val = int(len(base_indices) * split_size[1]) \n",
    "\ttest_idx = base_indices[0:nb_test] \n",
    "\tvalid_idx = base_indices[(nb_test):(nb_test+nb_val)] \n",
    "\ttrain_idx = base_indices[(nb_test+nb_val):len(base_indices)] \n",
    "\tprint(len(train_idx), len(valid_idx), len(test_idx)) \n",
    "\treturn train_idx, valid_idx, test_idx "
   ]
  },
  {
   "cell_type": "code",
   "execution_count": 26,
   "metadata": {},
   "outputs": [
    {
     "name": "stdout",
     "output_type": "stream",
     "text": [
      "6208 775 775\n",
      "6208 775 775\n"
     ]
    }
   ],
   "source": [
    "seed = 1\n",
    "X0=X0.values\n",
    "train_idx, valid_idx, test_idx = random_split(df,random_state=seed)\n",
    "train_idx = [i for i in train_idx if i < len(df)]\n",
    "valid_idx = [i for i in valid_idx if i < len(df)]\t\n",
    "test_idx = [i for i in test_idx if i < len(df)]\t\n",
    "print(len(train_idx), len(valid_idx), len(test_idx)) \n",
    "X = X0[train_idx]; y = Y0[train_idx]\n",
    "X_valid = X0[valid_idx];y_valid = Y0[valid_idx]\n",
    "X_test = X0[test_idx]; y_test = Y0[test_idx]"
   ]
  },
  {
   "cell_type": "code",
   "execution_count": 27,
   "metadata": {},
   "outputs": [
    {
     "name": "stderr",
     "output_type": "stream",
     "text": [
      "The use of label encoder in XGBClassifier is deprecated and will be removed in a future release. To remove this warning, do the following: 1) Pass option use_label_encoder=False when constructing XGBClassifier object; and 2) Encode your labels (y) as integers starting with 0, i.e. 0, 1, 2, ..., [num_class - 1].\n"
     ]
    },
    {
     "name": "stdout",
     "output_type": "stream",
     "text": [
      "[10:58:40] WARNING: C:/Users/Administrator/workspace/xgboost-win64_release_1.4.0/src/learner.cc:1095: Starting in XGBoost 1.3.0, the default evaluation metric used with the objective 'binary:logistic' was changed from 'error' to 'logloss'. Explicitly set eval_metric if you'd like to restore the old behavior.\n",
      "fit time is: 179.50817227363586\n"
     ]
    }
   ],
   "source": [
    "import time\n",
    "clf=xgboost.XGBClassifier(**use_param)\n",
    "time1=time.time()\n",
    "model=clf.fit(X, y)\n",
    "time2=time.time()\n",
    "time_fit=time2-time1\n",
    "print(f\"fit time is: {time_fit}\")"
   ]
  },
  {
   "cell_type": "code",
   "execution_count": 31,
   "metadata": {},
   "outputs": [
    {
     "name": "stdout",
     "output_type": "stream",
     "text": [
      "valid_roc_auc, test_roc_auc =  0.9319215291750502 0.926208961695324\n"
     ]
    }
   ],
   "source": [
    "test_roc_auc = ROC_AUC(y_test,clf.predict_proba(X_test)[:, 1])\n",
    "valid_roc_auc = ROC_AUC(y_valid,clf.predict_proba(X_valid)[:, 1])\n",
    "print('valid_roc_auc, test_roc_auc = ',valid_roc_auc, test_roc_auc)"
   ]
  },
  {
   "cell_type": "code",
   "execution_count": 13,
   "metadata": {},
   "outputs": [
    {
     "data": {
      "text/plain": [
       "7758"
      ]
     },
     "execution_count": 13,
     "metadata": {},
     "output_type": "execute_result"
    }
   ],
   "source": [
    "X0=pd.read_csv('Mo_Pu_ma_c.csv')\n",
    "len(X0)"
   ]
  },
  {
   "cell_type": "code",
   "execution_count": 14,
   "metadata": {},
   "outputs": [
    {
     "name": "stdout",
     "output_type": "stream",
     "text": [
      "6208 775 775\n"
     ]
    },
    {
     "name": "stderr",
     "output_type": "stream",
     "text": [
      "The use of label encoder in XGBClassifier is deprecated and will be removed in a future release. To remove this warning, do the following: 1) Pass option use_label_encoder=False when constructing XGBClassifier object; and 2) Encode your labels (y) as integers starting with 0, i.e. 0, 1, 2, ..., [num_class - 1].\n"
     ]
    },
    {
     "name": "stdout",
     "output_type": "stream",
     "text": [
      "[16:39:08] WARNING: C:/Users/Administrator/workspace/xgboost-win64_release_1.4.0/src/learner.cc:1095: Starting in XGBoost 1.3.0, the default evaluation metric used with the objective 'binary:logistic' was changed from 'error' to 'logloss'. Explicitly set eval_metric if you'd like to restore the old behavior.\n",
      "fit time is: 195.61753797531128\n",
      "valid_roc_auc, test_roc_auc =  0.9319215291750502 0.926208961695324\n",
      "6208 775 775\n"
     ]
    },
    {
     "name": "stderr",
     "output_type": "stream",
     "text": [
      "The use of label encoder in XGBClassifier is deprecated and will be removed in a future release. To remove this warning, do the following: 1) Pass option use_label_encoder=False when constructing XGBClassifier object; and 2) Encode your labels (y) as integers starting with 0, i.e. 0, 1, 2, ..., [num_class - 1].\n"
     ]
    },
    {
     "name": "stdout",
     "output_type": "stream",
     "text": [
      "[16:42:24] WARNING: C:/Users/Administrator/workspace/xgboost-win64_release_1.4.0/src/learner.cc:1095: Starting in XGBoost 1.3.0, the default evaluation metric used with the objective 'binary:logistic' was changed from 'error' to 'logloss'. Explicitly set eval_metric if you'd like to restore the old behavior.\n",
      "fit time is: 210.6504065990448\n",
      "valid_roc_auc, test_roc_auc =  0.9192355612716531 0.9248371765534237\n",
      "6208 775 775\n"
     ]
    },
    {
     "name": "stderr",
     "output_type": "stream",
     "text": [
      "The use of label encoder in XGBClassifier is deprecated and will be removed in a future release. To remove this warning, do the following: 1) Pass option use_label_encoder=False when constructing XGBClassifier object; and 2) Encode your labels (y) as integers starting with 0, i.e. 0, 1, 2, ..., [num_class - 1].\n"
     ]
    },
    {
     "name": "stdout",
     "output_type": "stream",
     "text": [
      "[16:45:55] WARNING: C:/Users/Administrator/workspace/xgboost-win64_release_1.4.0/src/learner.cc:1095: Starting in XGBoost 1.3.0, the default evaluation metric used with the objective 'binary:logistic' was changed from 'error' to 'logloss'. Explicitly set eval_metric if you'd like to restore the old behavior.\n",
      "fit time is: 209.82562017440796\n",
      "valid_roc_auc, test_roc_auc =  0.9255589022757698 0.9277556764363616\n",
      "6208 775 775\n"
     ]
    },
    {
     "name": "stderr",
     "output_type": "stream",
     "text": [
      "The use of label encoder in XGBClassifier is deprecated and will be removed in a future release. To remove this warning, do the following: 1) Pass option use_label_encoder=False when constructing XGBClassifier object; and 2) Encode your labels (y) as integers starting with 0, i.e. 0, 1, 2, ..., [num_class - 1].\n"
     ]
    },
    {
     "name": "stdout",
     "output_type": "stream",
     "text": [
      "[16:49:25] WARNING: C:/Users/Administrator/workspace/xgboost-win64_release_1.4.0/src/learner.cc:1095: Starting in XGBoost 1.3.0, the default evaluation metric used with the objective 'binary:logistic' was changed from 'error' to 'logloss'. Explicitly set eval_metric if you'd like to restore the old behavior.\n",
      "fit time is: 210.12204456329346\n",
      "valid_roc_auc, test_roc_auc =  0.9349767028468314 0.940040527664828\n",
      "6208 775 775\n"
     ]
    },
    {
     "name": "stderr",
     "output_type": "stream",
     "text": [
      "The use of label encoder in XGBClassifier is deprecated and will be removed in a future release. To remove this warning, do the following: 1) Pass option use_label_encoder=False when constructing XGBClassifier object; and 2) Encode your labels (y) as integers starting with 0, i.e. 0, 1, 2, ..., [num_class - 1].\n"
     ]
    },
    {
     "name": "stdout",
     "output_type": "stream",
     "text": [
      "[16:52:56] WARNING: C:/Users/Administrator/workspace/xgboost-win64_release_1.4.0/src/learner.cc:1095: Starting in XGBoost 1.3.0, the default evaluation metric used with the objective 'binary:logistic' was changed from 'error' to 'logloss'. Explicitly set eval_metric if you'd like to restore the old behavior.\n",
      "fit time is: 206.04458618164062\n",
      "valid_roc_auc, test_roc_auc =  0.9184587089211367 0.936309555927265\n",
      "6208 775 775\n"
     ]
    },
    {
     "name": "stderr",
     "output_type": "stream",
     "text": [
      "The use of label encoder in XGBClassifier is deprecated and will be removed in a future release. To remove this warning, do the following: 1) Pass option use_label_encoder=False when constructing XGBClassifier object; and 2) Encode your labels (y) as integers starting with 0, i.e. 0, 1, 2, ..., [num_class - 1].\n"
     ]
    },
    {
     "name": "stdout",
     "output_type": "stream",
     "text": [
      "[16:56:22] WARNING: C:/Users/Administrator/workspace/xgboost-win64_release_1.4.0/src/learner.cc:1095: Starting in XGBoost 1.3.0, the default evaluation metric used with the objective 'binary:logistic' was changed from 'error' to 'logloss'. Explicitly set eval_metric if you'd like to restore the old behavior.\n",
      "fit time is: 215.32311916351318\n",
      "valid_roc_auc, test_roc_auc =  0.9328548219746615 0.9290319731496204\n",
      "6208 775 775\n"
     ]
    },
    {
     "name": "stderr",
     "output_type": "stream",
     "text": [
      "The use of label encoder in XGBClassifier is deprecated and will be removed in a future release. To remove this warning, do the following: 1) Pass option use_label_encoder=False when constructing XGBClassifier object; and 2) Encode your labels (y) as integers starting with 0, i.e. 0, 1, 2, ..., [num_class - 1].\n"
     ]
    },
    {
     "name": "stdout",
     "output_type": "stream",
     "text": [
      "[16:59:58] WARNING: C:/Users/Administrator/workspace/xgboost-win64_release_1.4.0/src/learner.cc:1095: Starting in XGBoost 1.3.0, the default evaluation metric used with the objective 'binary:logistic' was changed from 'error' to 'logloss'. Explicitly set eval_metric if you'd like to restore the old behavior.\n",
      "fit time is: 214.84458684921265\n",
      "valid_roc_auc, test_roc_auc =  0.9234423928301478 0.9276028794079115\n",
      "6208 775 775\n"
     ]
    },
    {
     "name": "stderr",
     "output_type": "stream",
     "text": [
      "The use of label encoder in XGBClassifier is deprecated and will be removed in a future release. To remove this warning, do the following: 1) Pass option use_label_encoder=False when constructing XGBClassifier object; and 2) Encode your labels (y) as integers starting with 0, i.e. 0, 1, 2, ..., [num_class - 1].\n"
     ]
    },
    {
     "name": "stdout",
     "output_type": "stream",
     "text": [
      "[17:03:33] WARNING: C:/Users/Administrator/workspace/xgboost-win64_release_1.4.0/src/learner.cc:1095: Starting in XGBoost 1.3.0, the default evaluation metric used with the objective 'binary:logistic' was changed from 'error' to 'logloss'. Explicitly set eval_metric if you'd like to restore the old behavior.\n",
      "fit time is: 211.05363392829895\n",
      "valid_roc_auc, test_roc_auc =  0.922037422037422 0.9201791751183231\n",
      "6208 775 775\n"
     ]
    },
    {
     "name": "stderr",
     "output_type": "stream",
     "text": [
      "The use of label encoder in XGBClassifier is deprecated and will be removed in a future release. To remove this warning, do the following: 1) Pass option use_label_encoder=False when constructing XGBClassifier object; and 2) Encode your labels (y) as integers starting with 0, i.e. 0, 1, 2, ..., [num_class - 1].\n"
     ]
    },
    {
     "name": "stdout",
     "output_type": "stream",
     "text": [
      "[17:07:04] WARNING: C:/Users/Administrator/workspace/xgboost-win64_release_1.4.0/src/learner.cc:1095: Starting in XGBoost 1.3.0, the default evaluation metric used with the objective 'binary:logistic' was changed from 'error' to 'logloss'. Explicitly set eval_metric if you'd like to restore the old behavior.\n",
      "fit time is: 217.2484211921692\n",
      "valid_roc_auc, test_roc_auc =  0.9182897384305836 0.9428989849908218\n",
      "6208 775 775\n"
     ]
    },
    {
     "name": "stderr",
     "output_type": "stream",
     "text": [
      "The use of label encoder in XGBClassifier is deprecated and will be removed in a future release. To remove this warning, do the following: 1) Pass option use_label_encoder=False when constructing XGBClassifier object; and 2) Encode your labels (y) as integers starting with 0, i.e. 0, 1, 2, ..., [num_class - 1].\n"
     ]
    },
    {
     "name": "stdout",
     "output_type": "stream",
     "text": [
      "[17:10:42] WARNING: C:/Users/Administrator/workspace/xgboost-win64_release_1.4.0/src/learner.cc:1095: Starting in XGBoost 1.3.0, the default evaluation metric used with the objective 'binary:logistic' was changed from 'error' to 'logloss'. Explicitly set eval_metric if you'd like to restore the old behavior.\n",
      "fit time is: 216.80072569847107\n",
      "valid_roc_auc, test_roc_auc =  0.9320780252632712 0.9220292815798433\n"
     ]
    }
   ],
   "source": [
    "seeds = [1,2,4,8,16,32,64,128,256,512]\n",
    "X0=X0.values\n",
    "for seed in seeds:\n",
    "    train_idx, valid_idx, test_idx = random_split(df,random_state=seed)\n",
    "    train_idx = [i for i in train_idx if i < len(df)]\n",
    "    valid_idx = [i for i in valid_idx if i < len(df)]\t\n",
    "    test_idx = [i for i in test_idx if i < len(df)]\t \n",
    "    X = X0[train_idx]; y = Y0[train_idx]\n",
    "    X_valid = X0[valid_idx];y_valid = Y0[valid_idx]\n",
    "    X_test = X0[test_idx]; y_test = Y0[test_idx]\n",
    "    clf=''\n",
    "    clf=xgboost.XGBClassifier(**use_param)\n",
    "    time1=time.time()\n",
    "    model=clf.fit(X, y)\n",
    "    time2=time.time()\n",
    "    time_fit=time2-time1\n",
    "    print(f\"fit time is: {time_fit}\")\n",
    "    test_roc_auc = ROC_AUC(y_test,clf.predict_proba(X_test)[:, 1])\n",
    "    valid_roc_auc = ROC_AUC(y_valid,clf.predict_proba(X_valid)[:, 1])\n",
    "    print('valid_roc_auc, test_roc_auc = ',valid_roc_auc, test_roc_auc)"
   ]
  },
  {
   "cell_type": "markdown",
   "metadata": {},
   "source": [
    "# Pu_Ma"
   ]
  },
  {
   "cell_type": "code",
   "execution_count": 32,
   "metadata": {},
   "outputs": [
    {
     "data": {
      "text/plain": [
       "7758"
      ]
     },
     "execution_count": 32,
     "metadata": {},
     "output_type": "execute_result"
    }
   ],
   "source": [
    "X0=pd.read_csv('Pu_ma_c.csv')\n",
    "len(X0)"
   ]
  },
  {
   "cell_type": "code",
   "execution_count": 33,
   "metadata": {},
   "outputs": [],
   "source": [
    "def random_split(df, random_state, split_size = [0.8, 0.1, 0.1]):\n",
    "\tbase_indices = np.arange(len(df)) \n",
    "\tbase_indices = shuffle(base_indices, random_state = random_state) \n",
    "\tnb_test = int(len(base_indices) * split_size[2]) \n",
    "\tnb_val = int(len(base_indices) * split_size[1]) \n",
    "\ttest_idx = base_indices[0:nb_test] \n",
    "\tvalid_idx = base_indices[(nb_test):(nb_test+nb_val)] \n",
    "\ttrain_idx = base_indices[(nb_test+nb_val):len(base_indices)] \n",
    "\tprint(len(train_idx), len(valid_idx), len(test_idx)) \n",
    "\treturn train_idx, valid_idx, test_idx "
   ]
  },
  {
   "cell_type": "code",
   "execution_count": 34,
   "metadata": {},
   "outputs": [
    {
     "name": "stdout",
     "output_type": "stream",
     "text": [
      "6208 775 775\n",
      "6208 775 775\n"
     ]
    }
   ],
   "source": [
    "seed = 1\n",
    "X0=X0.values\n",
    "train_idx, valid_idx, test_idx = random_split(df,random_state=seed)\n",
    "train_idx = [i for i in train_idx if i < len(df)]\n",
    "valid_idx = [i for i in valid_idx if i < len(df)]\t\n",
    "test_idx = [i for i in test_idx if i < len(df)]\t\n",
    "print(len(train_idx), len(valid_idx), len(test_idx)) \n",
    "X = X0[train_idx]; y = Y0[train_idx]\n",
    "X_valid = X0[valid_idx];y_valid = Y0[valid_idx]\n",
    "X_test = X0[test_idx]; y_test = Y0[test_idx]"
   ]
  },
  {
   "cell_type": "code",
   "execution_count": 35,
   "metadata": {},
   "outputs": [
    {
     "name": "stderr",
     "output_type": "stream",
     "text": [
      "The use of label encoder in XGBClassifier is deprecated and will be removed in a future release. To remove this warning, do the following: 1) Pass option use_label_encoder=False when constructing XGBClassifier object; and 2) Encode your labels (y) as integers starting with 0, i.e. 0, 1, 2, ..., [num_class - 1].\n"
     ]
    },
    {
     "name": "stdout",
     "output_type": "stream",
     "text": [
      "[11:22:36] WARNING: C:/Users/Administrator/workspace/xgboost-win64_release_1.4.0/src/learner.cc:1095: Starting in XGBoost 1.3.0, the default evaluation metric used with the objective 'binary:logistic' was changed from 'error' to 'logloss'. Explicitly set eval_metric if you'd like to restore the old behavior.\n",
      "fit time is: 58.55386304855347\n"
     ]
    }
   ],
   "source": [
    "import time\n",
    "clf=xgboost.XGBClassifier(**use_param)\n",
    "time1=time.time()\n",
    "model=clf.fit(X, y)\n",
    "time2=time.time()\n",
    "time_fit=time2-time1\n",
    "print(f\"fit time is: {time_fit}\")"
   ]
  },
  {
   "cell_type": "code",
   "execution_count": 39,
   "metadata": {},
   "outputs": [
    {
     "name": "stdout",
     "output_type": "stream",
     "text": [
      "valid_roc_auc, test_roc_auc =  0.9317706237424547 0.9190242944053765\n"
     ]
    }
   ],
   "source": [
    "test_roc_auc = ROC_AUC(y_test,clf.predict_proba(X_test)[:, 1])\n",
    "valid_roc_auc = ROC_AUC(y_valid,clf.predict_proba(X_valid)[:, 1])\n",
    "print('valid_roc_auc, test_roc_auc = ',valid_roc_auc, test_roc_auc)"
   ]
  },
  {
   "cell_type": "code",
   "execution_count": 15,
   "metadata": {},
   "outputs": [
    {
     "data": {
      "text/plain": [
       "7758"
      ]
     },
     "execution_count": 15,
     "metadata": {},
     "output_type": "execute_result"
    }
   ],
   "source": [
    "X0=pd.read_csv('Pu_ma_c.csv')\n",
    "len(X0)"
   ]
  },
  {
   "cell_type": "code",
   "execution_count": 16,
   "metadata": {},
   "outputs": [
    {
     "name": "stdout",
     "output_type": "stream",
     "text": [
      "6208 775 775\n"
     ]
    },
    {
     "name": "stderr",
     "output_type": "stream",
     "text": [
      "The use of label encoder in XGBClassifier is deprecated and will be removed in a future release. To remove this warning, do the following: 1) Pass option use_label_encoder=False when constructing XGBClassifier object; and 2) Encode your labels (y) as integers starting with 0, i.e. 0, 1, 2, ..., [num_class - 1].\n"
     ]
    },
    {
     "name": "stdout",
     "output_type": "stream",
     "text": [
      "[17:15:51] WARNING: C:/Users/Administrator/workspace/xgboost-win64_release_1.4.0/src/learner.cc:1095: Starting in XGBoost 1.3.0, the default evaluation metric used with the objective 'binary:logistic' was changed from 'error' to 'logloss'. Explicitly set eval_metric if you'd like to restore the old behavior.\n",
      "fit time is: 63.1480393409729\n",
      "valid_roc_auc, test_roc_auc =  0.9317706237424547 0.9190242944053765\n",
      "6208 775 775\n"
     ]
    },
    {
     "name": "stderr",
     "output_type": "stream",
     "text": [
      "The use of label encoder in XGBClassifier is deprecated and will be removed in a future release. To remove this warning, do the following: 1) Pass option use_label_encoder=False when constructing XGBClassifier object; and 2) Encode your labels (y) as integers starting with 0, i.e. 0, 1, 2, ..., [num_class - 1].\n"
     ]
    },
    {
     "name": "stdout",
     "output_type": "stream",
     "text": [
      "[17:16:55] WARNING: C:/Users/Administrator/workspace/xgboost-win64_release_1.4.0/src/learner.cc:1095: Starting in XGBoost 1.3.0, the default evaluation metric used with the objective 'binary:logistic' was changed from 'error' to 'logloss'. Explicitly set eval_metric if you'd like to restore the old behavior.\n",
      "fit time is: 70.31933617591858\n",
      "valid_roc_auc, test_roc_auc =  0.9158126013155956 0.9175118140089097\n",
      "6208 775 775\n"
     ]
    },
    {
     "name": "stderr",
     "output_type": "stream",
     "text": [
      "The use of label encoder in XGBClassifier is deprecated and will be removed in a future release. To remove this warning, do the following: 1) Pass option use_label_encoder=False when constructing XGBClassifier object; and 2) Encode your labels (y) as integers starting with 0, i.e. 0, 1, 2, ..., [num_class - 1].\n"
     ]
    },
    {
     "name": "stdout",
     "output_type": "stream",
     "text": [
      "[17:18:05] WARNING: C:/Users/Administrator/workspace/xgboost-win64_release_1.4.0/src/learner.cc:1095: Starting in XGBoost 1.3.0, the default evaluation metric used with the objective 'binary:logistic' was changed from 'error' to 'logloss'. Explicitly set eval_metric if you'd like to restore the old behavior.\n",
      "fit time is: 72.05974316596985\n",
      "valid_roc_auc, test_roc_auc =  0.9172991967871484 0.9155976834185813\n",
      "6208 775 775\n"
     ]
    },
    {
     "name": "stderr",
     "output_type": "stream",
     "text": [
      "The use of label encoder in XGBClassifier is deprecated and will be removed in a future release. To remove this warning, do the following: 1) Pass option use_label_encoder=False when constructing XGBClassifier object; and 2) Encode your labels (y) as integers starting with 0, i.e. 0, 1, 2, ..., [num_class - 1].\n"
     ]
    },
    {
     "name": "stdout",
     "output_type": "stream",
     "text": [
      "[17:19:17] WARNING: C:/Users/Administrator/workspace/xgboost-win64_release_1.4.0/src/learner.cc:1095: Starting in XGBoost 1.3.0, the default evaluation metric used with the objective 'binary:logistic' was changed from 'error' to 'logloss'. Explicitly set eval_metric if you'd like to restore the old behavior.\n",
      "fit time is: 71.16777229309082\n",
      "valid_roc_auc, test_roc_auc =  0.9243650515769345 0.9289591636807708\n",
      "6208 775 775\n"
     ]
    },
    {
     "name": "stderr",
     "output_type": "stream",
     "text": [
      "The use of label encoder in XGBClassifier is deprecated and will be removed in a future release. To remove this warning, do the following: 1) Pass option use_label_encoder=False when constructing XGBClassifier object; and 2) Encode your labels (y) as integers starting with 0, i.e. 0, 1, 2, ..., [num_class - 1].\n"
     ]
    },
    {
     "name": "stdout",
     "output_type": "stream",
     "text": [
      "[17:20:29] WARNING: C:/Users/Administrator/workspace/xgboost-win64_release_1.4.0/src/learner.cc:1095: Starting in XGBoost 1.3.0, the default evaluation metric used with the objective 'binary:logistic' was changed from 'error' to 'logloss'. Explicitly set eval_metric if you'd like to restore the old behavior.\n",
      "fit time is: 70.84037804603577\n",
      "valid_roc_auc, test_roc_auc =  0.9122269830362316 0.9307215507473156\n",
      "6208 775 775\n"
     ]
    },
    {
     "name": "stderr",
     "output_type": "stream",
     "text": [
      "The use of label encoder in XGBClassifier is deprecated and will be removed in a future release. To remove this warning, do the following: 1) Pass option use_label_encoder=False when constructing XGBClassifier object; and 2) Encode your labels (y) as integers starting with 0, i.e. 0, 1, 2, ..., [num_class - 1].\n"
     ]
    },
    {
     "name": "stdout",
     "output_type": "stream",
     "text": [
      "[17:21:40] WARNING: C:/Users/Administrator/workspace/xgboost-win64_release_1.4.0/src/learner.cc:1095: Starting in XGBoost 1.3.0, the default evaluation metric used with the objective 'binary:logistic' was changed from 'error' to 'logloss'. Explicitly set eval_metric if you'd like to restore the old behavior.\n",
      "fit time is: 70.87079930305481\n",
      "valid_roc_auc, test_roc_auc =  0.9267932230231543 0.9215822156998627\n",
      "6208 775 775\n"
     ]
    },
    {
     "name": "stderr",
     "output_type": "stream",
     "text": [
      "The use of label encoder in XGBClassifier is deprecated and will be removed in a future release. To remove this warning, do the following: 1) Pass option use_label_encoder=False when constructing XGBClassifier object; and 2) Encode your labels (y) as integers starting with 0, i.e. 0, 1, 2, ..., [num_class - 1].\n"
     ]
    },
    {
     "name": "stdout",
     "output_type": "stream",
     "text": [
      "[17:22:51] WARNING: C:/Users/Administrator/workspace/xgboost-win64_release_1.4.0/src/learner.cc:1095: Starting in XGBoost 1.3.0, the default evaluation metric used with the objective 'binary:logistic' was changed from 'error' to 'logloss'. Explicitly set eval_metric if you'd like to restore the old behavior.\n",
      "fit time is: 71.37896823883057\n",
      "valid_roc_auc, test_roc_auc =  0.9265771784904437 0.9204246181273044\n",
      "6208 775 775\n"
     ]
    },
    {
     "name": "stderr",
     "output_type": "stream",
     "text": [
      "The use of label encoder in XGBClassifier is deprecated and will be removed in a future release. To remove this warning, do the following: 1) Pass option use_label_encoder=False when constructing XGBClassifier object; and 2) Encode your labels (y) as integers starting with 0, i.e. 0, 1, 2, ..., [num_class - 1].\n"
     ]
    },
    {
     "name": "stdout",
     "output_type": "stream",
     "text": [
      "[17:24:02] WARNING: C:/Users/Administrator/workspace/xgboost-win64_release_1.4.0/src/learner.cc:1095: Starting in XGBoost 1.3.0, the default evaluation metric used with the objective 'binary:logistic' was changed from 'error' to 'logloss'. Explicitly set eval_metric if you'd like to restore the old behavior.\n",
      "fit time is: 70.93473148345947\n",
      "valid_roc_auc, test_roc_auc =  0.9115235144646908 0.9137423935091278\n",
      "6208 775 775\n"
     ]
    },
    {
     "name": "stderr",
     "output_type": "stream",
     "text": [
      "The use of label encoder in XGBClassifier is deprecated and will be removed in a future release. To remove this warning, do the following: 1) Pass option use_label_encoder=False when constructing XGBClassifier object; and 2) Encode your labels (y) as integers starting with 0, i.e. 0, 1, 2, ..., [num_class - 1].\n"
     ]
    },
    {
     "name": "stdout",
     "output_type": "stream",
     "text": [
      "[17:25:13] WARNING: C:/Users/Administrator/workspace/xgboost-win64_release_1.4.0/src/learner.cc:1095: Starting in XGBoost 1.3.0, the default evaluation metric used with the objective 'binary:logistic' was changed from 'error' to 'logloss'. Explicitly set eval_metric if you'd like to restore the old behavior.\n",
      "fit time is: 69.84852480888367\n",
      "valid_roc_auc, test_roc_auc =  0.9075586854460094 0.9331740632761041\n",
      "6208 775 775\n"
     ]
    },
    {
     "name": "stderr",
     "output_type": "stream",
     "text": [
      "The use of label encoder in XGBClassifier is deprecated and will be removed in a future release. To remove this warning, do the following: 1) Pass option use_label_encoder=False when constructing XGBClassifier object; and 2) Encode your labels (y) as integers starting with 0, i.e. 0, 1, 2, ..., [num_class - 1].\n"
     ]
    },
    {
     "name": "stdout",
     "output_type": "stream",
     "text": [
      "[17:26:23] WARNING: C:/Users/Administrator/workspace/xgboost-win64_release_1.4.0/src/learner.cc:1095: Starting in XGBoost 1.3.0, the default evaluation metric used with the objective 'binary:logistic' was changed from 'error' to 'logloss'. Explicitly set eval_metric if you'd like to restore the old behavior.\n",
      "fit time is: 70.8059868812561\n",
      "valid_roc_auc, test_roc_auc =  0.9195137224272132 0.9086925434116445\n"
     ]
    }
   ],
   "source": [
    "seeds = [1,2,4,8,16,32,64,128,256,512]\n",
    "X0=X0.values\n",
    "for seed in seeds:\n",
    "    train_idx, valid_idx, test_idx = random_split(df,random_state=seed)\n",
    "    train_idx = [i for i in train_idx if i < len(df)]\n",
    "    valid_idx = [i for i in valid_idx if i < len(df)]\t\n",
    "    test_idx = [i for i in test_idx if i < len(df)]\t \n",
    "    X = X0[train_idx]; y = Y0[train_idx]\n",
    "    X_valid = X0[valid_idx];y_valid = Y0[valid_idx]\n",
    "    X_test = X0[test_idx]; y_test = Y0[test_idx]\n",
    "    clf=''\n",
    "    clf=xgboost.XGBClassifier(**use_param)\n",
    "    time1=time.time()\n",
    "    model=clf.fit(X, y)\n",
    "    time2=time.time()\n",
    "    time_fit=time2-time1\n",
    "    print(f\"fit time is: {time_fit}\")\n",
    "    test_roc_auc = ROC_AUC(y_test,clf.predict_proba(X_test)[:, 1])\n",
    "    valid_roc_auc = ROC_AUC(y_valid,clf.predict_proba(X_valid)[:, 1])\n",
    "    print('valid_roc_auc, test_roc_auc = ',valid_roc_auc, test_roc_auc)"
   ]
  },
  {
   "cell_type": "code",
   "execution_count": null,
   "metadata": {},
   "outputs": [],
   "source": []
  }
 ],
 "metadata": {
  "kernelspec": {
   "display_name": "Python 3",
   "language": "python",
   "name": "python3"
  },
  "language_info": {
   "codemirror_mode": {
    "name": "ipython",
    "version": 3
   },
   "file_extension": ".py",
   "mimetype": "text/x-python",
   "name": "python",
   "nbconvert_exporter": "python",
   "pygments_lexer": "ipython3",
   "version": "3.7.1"
  }
 },
 "nbformat": 4,
 "nbformat_minor": 2
}
