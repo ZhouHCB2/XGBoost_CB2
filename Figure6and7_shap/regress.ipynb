{
 "cells": [
  {
   "cell_type": "markdown",
   "metadata": {},
   "source": [
    "# Mo_Ma"
   ]
  },
  {
   "cell_type": "code",
   "execution_count": 37,
   "metadata": {},
   "outputs": [],
   "source": [
    "from sklearn.metrics import roc_auc_score, precision_recall_curve\n",
    "from sklearn.metrics import auc as calculate_auc\n",
    "from sklearn.metrics import mean_squared_error\n",
    "from sklearn.metrics import accuracy_score\n",
    "from tqdm import tqdm\n",
    "from sklearn.utils import shuffle \n",
    "from joblib import load, dump\n",
    "import numpy as np\n",
    "import pandas as pd\n",
    "import os,sys,json\n",
    "from argparse import ArgumentParser\n",
    "from scipy.stats.stats import pearsonr\n",
    "import time\n",
    "import xgboost"
   ]
  },
  {
   "cell_type": "code",
   "execution_count": 38,
   "metadata": {},
   "outputs": [],
   "source": [
    "def rmse(y_true, y_pred):\n",
    "\tmse = mean_squared_error(y_true, y_pred)\n",
    "\trmse = np.sqrt(mse)  \n",
    "\treturn rmse"
   ]
  },
  {
   "cell_type": "code",
   "execution_count": 39,
   "metadata": {},
   "outputs": [],
   "source": [
    "df=pd.read_csv('CB2_Chembl_R6227.csv')"
   ]
  },
  {
   "cell_type": "code",
   "execution_count": 40,
   "metadata": {},
   "outputs": [
    {
     "data": {
      "text/plain": [
       "6227"
      ]
     },
     "execution_count": 40,
     "metadata": {},
     "output_type": "execute_result"
    }
   ],
   "source": [
    "Y0 = df['PActivity'].astype('float').values\n",
    "len(Y0)"
   ]
  },
  {
   "cell_type": "code",
   "execution_count": 41,
   "metadata": {},
   "outputs": [
    {
     "data": {
      "text/plain": [
       "6227"
      ]
     },
     "execution_count": 41,
     "metadata": {},
     "output_type": "execute_result"
    }
   ],
   "source": [
    "X0=pd.read_csv('Mo_ma_r.csv')\n",
    "len(X0)"
   ]
  },
  {
   "cell_type": "code",
   "execution_count": 42,
   "metadata": {},
   "outputs": [],
   "source": [
    "def random_split(df, random_state, split_size = [0.8, 0.1, 0.1]):\n",
    "\tbase_indices = np.arange(len(df)) \n",
    "\tbase_indices = shuffle(base_indices, random_state = random_state) \n",
    "\tnb_test = int(len(base_indices) * split_size[2]) \n",
    "\tnb_val = int(len(base_indices) * split_size[1]) \n",
    "\ttest_idx = base_indices[0:nb_test] \n",
    "\tvalid_idx = base_indices[(nb_test):(nb_test+nb_val)] \n",
    "\ttrain_idx = base_indices[(nb_test+nb_val):len(base_indices)] \n",
    "\tprint(len(train_idx), len(valid_idx), len(test_idx)) \n",
    "\treturn train_idx, valid_idx, test_idx "
   ]
  },
  {
   "cell_type": "code",
   "execution_count": 7,
   "metadata": {},
   "outputs": [
    {
     "name": "stdout",
     "output_type": "stream",
     "text": [
      "4983 622 622\n",
      "4983 622 622\n"
     ]
    }
   ],
   "source": [
    "seed = 1\n",
    "X0=X0.values\n",
    "train_idx, valid_idx, test_idx = random_split(df,random_state=seed)\n",
    "train_idx = [i for i in train_idx if i < len(df)]\n",
    "valid_idx = [i for i in valid_idx if i < len(df)]\t\n",
    "test_idx = [i for i in test_idx if i < len(df)]\t\n",
    "print(len(train_idx), len(valid_idx), len(test_idx)) \n",
    "X = X0[train_idx]; y = Y0[train_idx]\n",
    "X_valid = X0[valid_idx];y_valid = Y0[valid_idx]\n",
    "X_test = X0[test_idx]; y_test = Y0[test_idx] "
   ]
  },
  {
   "cell_type": "code",
   "execution_count": 43,
   "metadata": {},
   "outputs": [],
   "source": [
    "import json\n",
    "with open('params_regress','r') as f:\n",
    "    best_param=json.load(f)"
   ]
  },
  {
   "cell_type": "code",
   "execution_count": 44,
   "metadata": {},
   "outputs": [],
   "source": [
    "use_param=best_param['params']\n",
    "for item in ['gpu_id','tree_method','missing']:\n",
    "    use_param.pop(item)\n",
    "use_param.update({'n_jobs': -1})"
   ]
  },
  {
   "cell_type": "code",
   "execution_count": 14,
   "metadata": {
    "scrolled": true
   },
   "outputs": [
    {
     "data": {
      "text/plain": [
       "{'base_score': 0.5,\n",
       " 'booster': 'gbtree',\n",
       " 'colsample_bylevel': 1,\n",
       " 'colsample_bynode': 1,\n",
       " 'colsample_bytree': 0.3,\n",
       " 'gamma': 0.02,\n",
       " 'importance_type': 'gain',\n",
       " 'learning_rate': 0.05,\n",
       " 'max_delta_step': 0,\n",
       " 'max_depth': 6,\n",
       " 'min_child_weight': 4,\n",
       " 'n_estimators': 10000,\n",
       " 'n_jobs': -1,\n",
       " 'nthread': None,\n",
       " 'objective': 'reg:squarederror',\n",
       " 'random_state': 0,\n",
       " 'reg_alpha': 4.0,\n",
       " 'reg_lambda': 1.2,\n",
       " 'scale_pos_weight': 1,\n",
       " 'seed': 123,\n",
       " 'silent': None,\n",
       " 'subsample': 0.6,\n",
       " 'verbosity': 1}"
      ]
     },
     "execution_count": 14,
     "metadata": {},
     "output_type": "execute_result"
    }
   ],
   "source": [
    "use_param"
   ]
  },
  {
   "cell_type": "code",
   "execution_count": 15,
   "metadata": {},
   "outputs": [],
   "source": [
    "clf=xgboost.XGBRegressor(**use_param)\n",
    "#clf=xgboost.XGBRegressor(**best_param['params'])"
   ]
  },
  {
   "cell_type": "code",
   "execution_count": 16,
   "metadata": {},
   "outputs": [
    {
     "name": "stdout",
     "output_type": "stream",
     "text": [
      "fit time is: 284.61198806762695\n"
     ]
    }
   ],
   "source": [
    "time1=time.time()\n",
    "model=clf.fit(X, y)\n",
    "time2=time.time()\n",
    "time_fit=time2-time1\n",
    "print(f\"fit time is: {time_fit}\")"
   ]
  },
  {
   "cell_type": "code",
   "execution_count": 17,
   "metadata": {},
   "outputs": [],
   "source": [
    "valid_r2 = pearsonr(y_valid, clf.predict(X_valid))[0]**2\n",
    "valid_rmse = rmse(y_valid, clf.predict(X_valid))\n",
    "test_r2 = pearsonr(y_test, clf.predict(X_test))[0]**2\n",
    "test_rmse = rmse(y_test, clf.predict(X_test))"
   ]
  },
  {
   "cell_type": "code",
   "execution_count": 18,
   "metadata": {},
   "outputs": [
    {
     "name": "stdout",
     "output_type": "stream",
     "text": [
      "results =  {'seed': 1, 'valid_rmse': 0.6798157868645288, 'valid_r2': 0.6447870215443375, 'test_rmse': 0.6911373059397857, 'test_r2': 0.6676731547491025, 'time': 284.61198806762695}\n"
     ]
    }
   ],
   "source": [
    "results = {\"seed\":seed, 'valid_rmse':valid_rmse,\n",
    "'valid_r2':valid_r2,\"test_rmse\":test_rmse, \"test_r2\": test_r2,\"time\":time_fit}\n",
    "print('results = ',results)"
   ]
  },
  {
   "cell_type": "code",
   "execution_count": 45,
   "metadata": {},
   "outputs": [
    {
     "name": "stdout",
     "output_type": "stream",
     "text": [
      "4983 622 622\n",
      "fit time is: 320.9758150577545\n",
      "results =  {'seed': 1, 'valid_rmse': 0.6798157868645288, 'valid_r2': 0.6447870215443375, 'test_rmse': 0.6911373059397857, 'test_r2': 0.6676731547491025, 'time': 320.9758150577545}\n",
      "4983 622 622\n",
      "fit time is: 311.7244403362274\n",
      "results =  {'seed': 2, 'valid_rmse': 0.6543562161268149, 'valid_r2': 0.6737183322613969, 'test_rmse': 0.6689389862852707, 'test_r2': 0.6629938726767428, 'time': 311.7244403362274}\n",
      "4983 622 622\n",
      "fit time is: 309.7731773853302\n",
      "results =  {'seed': 4, 'valid_rmse': 0.6923714735972474, 'valid_r2': 0.6558362656082992, 'test_rmse': 0.6836250802623381, 'test_r2': 0.6558790924498649, 'time': 309.7731773853302}\n",
      "4983 622 622\n",
      "fit time is: 313.3846046924591\n",
      "results =  {'seed': 8, 'valid_rmse': 0.6529832097959148, 'valid_r2': 0.6575121072768183, 'test_rmse': 0.6787772439350613, 'test_r2': 0.67443593126759, 'time': 313.3846046924591}\n",
      "4983 622 622\n",
      "fit time is: 319.0431785583496\n",
      "results =  {'seed': 16, 'valid_rmse': 0.6734491423637432, 'valid_r2': 0.6614075250595912, 'test_rmse': 0.6009892249661043, 'test_r2': 0.7091118270593346, 'time': 319.0431785583496}\n",
      "4983 622 622\n",
      "fit time is: 320.8479571342468\n",
      "results =  {'seed': 32, 'valid_rmse': 0.6824555152263309, 'valid_r2': 0.63365088885789, 'test_rmse': 0.6605566452375287, 'test_r2': 0.6764510750160327, 'time': 320.8479571342468}\n",
      "4983 622 622\n",
      "fit time is: 317.20425844192505\n",
      "results =  {'seed': 64, 'valid_rmse': 0.6469181365545562, 'valid_r2': 0.6852047628852094, 'test_rmse': 0.632303690343627, 'test_r2': 0.6962297590731451, 'time': 317.20425844192505}\n",
      "4983 622 622\n",
      "fit time is: 310.43680214881897\n",
      "results =  {'seed': 128, 'valid_rmse': 0.7028051517965052, 'valid_r2': 0.6340893748965784, 'test_rmse': 0.6956694969199861, 'test_r2': 0.6355806682302098, 'time': 310.43680214881897}\n",
      "4983 622 622\n",
      "fit time is: 313.045428276062\n",
      "results =  {'seed': 256, 'valid_rmse': 0.7021359222808154, 'valid_r2': 0.6414861301970146, 'test_rmse': 0.6602372138808624, 'test_r2': 0.6618755486055804, 'time': 313.045428276062}\n",
      "4983 622 622\n",
      "fit time is: 312.667683839798\n",
      "results =  {'seed': 512, 'valid_rmse': 0.6920692633464232, 'valid_r2': 0.6504998555942202, 'test_rmse': 0.7343627189797307, 'test_r2': 0.6165183500125039, 'time': 312.667683839798}\n"
     ]
    }
   ],
   "source": [
    "seeds = [1,2,4,8,16,32,64,128,256,512]\n",
    "X0=X0.values\n",
    "for seed in seeds:\n",
    "    train_idx, valid_idx, test_idx = random_split(df,random_state=seed)\n",
    "    train_idx = [i for i in train_idx if i < len(df)]\n",
    "    valid_idx = [i for i in valid_idx if i < len(df)]\t\n",
    "    test_idx = [i for i in test_idx if i < len(df)]\t \n",
    "    X = X0[train_idx]; y = Y0[train_idx]\n",
    "    X_valid = X0[valid_idx];y_valid = Y0[valid_idx]\n",
    "    X_test = X0[test_idx]; y_test = Y0[test_idx]\n",
    "    clf=''\n",
    "    clf=xgboost.XGBRegressor(**use_param)\n",
    "    time1=time.time()\n",
    "    model=clf.fit(X, y)\n",
    "    time2=time.time()\n",
    "    time_fit=time2-time1\n",
    "    print(f\"fit time is: {time_fit}\")\n",
    "    valid_r2 = pearsonr(y_valid, clf.predict(X_valid))[0]**2\n",
    "    valid_rmse = rmse(y_valid, clf.predict(X_valid))\n",
    "    test_r2 = pearsonr(y_test, clf.predict(X_test))[0]**2\n",
    "    test_rmse = rmse(y_test, clf.predict(X_test))\n",
    "    results = {\"seed\":seed, 'valid_rmse':valid_rmse,\n",
    "    'valid_r2':valid_r2,\"test_rmse\":test_rmse, \"test_r2\": test_r2,\"time\":time_fit}\n",
    "    print('results = ',results)"
   ]
  },
  {
   "cell_type": "markdown",
   "metadata": {},
   "source": [
    "# Mo_Pu"
   ]
  },
  {
   "cell_type": "code",
   "execution_count": 19,
   "metadata": {},
   "outputs": [
    {
     "data": {
      "text/plain": [
       "6227"
      ]
     },
     "execution_count": 19,
     "metadata": {},
     "output_type": "execute_result"
    }
   ],
   "source": [
    "X0=pd.read_csv('Mo_Pu_r.csv')\n",
    "len(X0)"
   ]
  },
  {
   "cell_type": "code",
   "execution_count": 20,
   "metadata": {},
   "outputs": [],
   "source": [
    "def random_split(df, random_state, split_size = [0.8, 0.1, 0.1]):\n",
    "\tbase_indices = np.arange(len(df)) \n",
    "\tbase_indices = shuffle(base_indices, random_state = random_state) \n",
    "\tnb_test = int(len(base_indices) * split_size[2]) \n",
    "\tnb_val = int(len(base_indices) * split_size[1]) \n",
    "\ttest_idx = base_indices[0:nb_test] \n",
    "\tvalid_idx = base_indices[(nb_test):(nb_test+nb_val)] \n",
    "\ttrain_idx = base_indices[(nb_test+nb_val):len(base_indices)] \n",
    "\tprint(len(train_idx), len(valid_idx), len(test_idx)) \n",
    "\treturn train_idx, valid_idx, test_idx "
   ]
  },
  {
   "cell_type": "code",
   "execution_count": 21,
   "metadata": {},
   "outputs": [
    {
     "name": "stdout",
     "output_type": "stream",
     "text": [
      "4983 622 622\n",
      "4983 622 622\n"
     ]
    }
   ],
   "source": [
    "seed = 1\n",
    "X0=X0.values\n",
    "train_idx, valid_idx, test_idx = random_split(df,random_state=seed)\n",
    "train_idx = [i for i in train_idx if i < len(df)]\n",
    "valid_idx = [i for i in valid_idx if i < len(df)]\t\n",
    "test_idx = [i for i in test_idx if i < len(df)]\t\n",
    "print(len(train_idx), len(valid_idx), len(test_idx)) \n",
    "X = X0[train_idx]; y = Y0[train_idx]\n",
    "X_valid = X0[valid_idx];y_valid = Y0[valid_idx]\n",
    "X_test = X0[test_idx]; y_test = Y0[test_idx] "
   ]
  },
  {
   "cell_type": "code",
   "execution_count": 22,
   "metadata": {},
   "outputs": [
    {
     "name": "stdout",
     "output_type": "stream",
     "text": [
      "fit time is: 472.180992603302\n"
     ]
    }
   ],
   "source": [
    "clf=xgboost.XGBRegressor(**use_param)\n",
    "#clf=xgboost.XGBRegressor(**best_param['params'])\n",
    "time1=time.time()\n",
    "model=clf.fit(X, y)\n",
    "time2=time.time()\n",
    "time_fit=time2-time1\n",
    "print(f\"fit time is: {time_fit}\")"
   ]
  },
  {
   "cell_type": "code",
   "execution_count": 23,
   "metadata": {},
   "outputs": [],
   "source": [
    "valid_r2 = pearsonr(y_valid, clf.predict(X_valid))[0]**2\n",
    "valid_rmse = rmse(y_valid, clf.predict(X_valid))\n",
    "test_r2 = pearsonr(y_test, clf.predict(X_test))[0]**2\n",
    "test_rmse = rmse(y_test, clf.predict(X_test))"
   ]
  },
  {
   "cell_type": "code",
   "execution_count": 24,
   "metadata": {},
   "outputs": [
    {
     "name": "stdout",
     "output_type": "stream",
     "text": [
      "results =  {'seed': 1, 'valid_rmse': 0.6711811063276028, 'valid_r2': 0.6532283220067221, 'test_rmse': 0.69679825687605, 'test_r2': 0.6623770979676231, 'time': 472.180992603302}\n"
     ]
    }
   ],
   "source": [
    "results = {\"seed\":seed, 'valid_rmse':valid_rmse,\n",
    "'valid_r2':valid_r2,\"test_rmse\":test_rmse, \"test_r2\": test_r2,\"time\":time_fit}\n",
    "print('results = ',results)"
   ]
  },
  {
   "cell_type": "code",
   "execution_count": 46,
   "metadata": {},
   "outputs": [
    {
     "data": {
      "text/plain": [
       "6227"
      ]
     },
     "execution_count": 46,
     "metadata": {},
     "output_type": "execute_result"
    }
   ],
   "source": [
    "X0=pd.read_csv('Mo_Pu_r.csv')\n",
    "len(X0)"
   ]
  },
  {
   "cell_type": "code",
   "execution_count": 47,
   "metadata": {},
   "outputs": [
    {
     "name": "stdout",
     "output_type": "stream",
     "text": [
      "4983 622 622\n",
      "fit time is: 431.97073793411255\n",
      "results =  {'seed': 1, 'valid_rmse': 0.6711811063276028, 'valid_r2': 0.6532283220067221, 'test_rmse': 0.69679825687605, 'test_r2': 0.6623770979676231, 'time': 431.97073793411255}\n",
      "4983 622 622\n",
      "fit time is: 440.61969661712646\n",
      "results =  {'seed': 2, 'valid_rmse': 0.6729565395997779, 'valid_r2': 0.6551882860146439, 'test_rmse': 0.6564554628405899, 'test_r2': 0.6744588581924806, 'time': 440.61969661712646}\n",
      "4983 622 622\n",
      "fit time is: 465.20979046821594\n",
      "results =  {'seed': 4, 'valid_rmse': 0.6959260099384523, 'valid_r2': 0.6522567046342864, 'test_rmse': 0.6851162303804512, 'test_r2': 0.6562262350360132, 'time': 465.20979046821594}\n",
      "4983 622 622\n",
      "fit time is: 460.72197580337524\n",
      "results =  {'seed': 8, 'valid_rmse': 0.6704020677973551, 'valid_r2': 0.6396740097750736, 'test_rmse': 0.658991617840344, 'test_r2': 0.6929851676396932, 'time': 460.72197580337524}\n",
      "4983 622 622\n",
      "fit time is: 464.2941038608551\n",
      "results =  {'seed': 16, 'valid_rmse': 0.6754232036394915, 'valid_r2': 0.6593004348678034, 'test_rmse': 0.6138184420587881, 'test_r2': 0.6985717202682756, 'time': 464.2941038608551}\n",
      "4983 622 622\n",
      "fit time is: 452.31788897514343\n",
      "results =  {'seed': 32, 'valid_rmse': 0.6759328641589651, 'valid_r2': 0.642625617389648, 'test_rmse': 0.6699697425136439, 'test_r2': 0.6675964490058248, 'time': 452.31788897514343}\n",
      "4983 622 622\n",
      "fit time is: 463.3979523181915\n",
      "results =  {'seed': 64, 'valid_rmse': 0.6380606300634807, 'valid_r2': 0.693967664958444, 'test_rmse': 0.6386128996268378, 'test_r2': 0.6908786512853659, 'time': 463.3979523181915}\n",
      "4983 622 622\n",
      "fit time is: 470.98978185653687\n",
      "results =  {'seed': 128, 'valid_rmse': 0.6999384055986986, 'valid_r2': 0.637505169500299, 'test_rmse': 0.705763864759504, 'test_r2': 0.6242491252597654, 'time': 470.98978185653687}\n",
      "4983 622 622\n",
      "fit time is: 465.1194031238556\n",
      "results =  {'seed': 256, 'valid_rmse': 0.6822793995695363, 'valid_r2': 0.6606912731455543, 'test_rmse': 0.6636103739517809, 'test_r2': 0.6583136244248426, 'time': 465.1194031238556}\n",
      "4983 622 622\n",
      "fit time is: 459.85874485969543\n",
      "results =  {'seed': 512, 'valid_rmse': 0.694411938964782, 'valid_r2': 0.6485266948252966, 'test_rmse': 0.7305021019593787, 'test_r2': 0.6204417294201506, 'time': 459.85874485969543}\n"
     ]
    }
   ],
   "source": [
    "seeds = [1,2,4,8,16,32,64,128,256,512]\n",
    "X0=X0.values\n",
    "for seed in seeds:\n",
    "    train_idx, valid_idx, test_idx = random_split(df,random_state=seed)\n",
    "    train_idx = [i for i in train_idx if i < len(df)]\n",
    "    valid_idx = [i for i in valid_idx if i < len(df)]\t\n",
    "    test_idx = [i for i in test_idx if i < len(df)]\t \n",
    "    X = X0[train_idx]; y = Y0[train_idx]\n",
    "    X_valid = X0[valid_idx];y_valid = Y0[valid_idx]\n",
    "    X_test = X0[test_idx]; y_test = Y0[test_idx]\n",
    "    clf=''\n",
    "    clf=xgboost.XGBRegressor(**use_param)\n",
    "    time1=time.time()\n",
    "    model=clf.fit(X, y)\n",
    "    time2=time.time()\n",
    "    time_fit=time2-time1\n",
    "    print(f\"fit time is: {time_fit}\")\n",
    "    valid_r2 = pearsonr(y_valid, clf.predict(X_valid))[0]**2\n",
    "    valid_rmse = rmse(y_valid, clf.predict(X_valid))\n",
    "    test_r2 = pearsonr(y_test, clf.predict(X_test))[0]**2\n",
    "    test_rmse = rmse(y_test, clf.predict(X_test))\n",
    "    results = {\"seed\":seed, 'valid_rmse':valid_rmse,\n",
    "    'valid_r2':valid_r2,\"test_rmse\":test_rmse, \"test_r2\": test_r2,\"time\":time_fit}\n",
    "    print('results = ',results)"
   ]
  },
  {
   "cell_type": "markdown",
   "metadata": {},
   "source": [
    "# Mo_Pu_Ma"
   ]
  },
  {
   "cell_type": "code",
   "execution_count": 25,
   "metadata": {},
   "outputs": [
    {
     "data": {
      "text/plain": [
       "6227"
      ]
     },
     "execution_count": 25,
     "metadata": {},
     "output_type": "execute_result"
    }
   ],
   "source": [
    "X0=pd.read_csv('Mo_Pu_ma_r.csv')\n",
    "len(X0)"
   ]
  },
  {
   "cell_type": "code",
   "execution_count": 26,
   "metadata": {},
   "outputs": [],
   "source": [
    "def random_split(df, random_state, split_size = [0.8, 0.1, 0.1]):\n",
    "\tbase_indices = np.arange(len(df)) \n",
    "\tbase_indices = shuffle(base_indices, random_state = random_state) \n",
    "\tnb_test = int(len(base_indices) * split_size[2]) \n",
    "\tnb_val = int(len(base_indices) * split_size[1]) \n",
    "\ttest_idx = base_indices[0:nb_test] \n",
    "\tvalid_idx = base_indices[(nb_test):(nb_test+nb_val)] \n",
    "\ttrain_idx = base_indices[(nb_test+nb_val):len(base_indices)] \n",
    "\tprint(len(train_idx), len(valid_idx), len(test_idx)) \n",
    "\treturn train_idx, valid_idx, test_idx "
   ]
  },
  {
   "cell_type": "code",
   "execution_count": 27,
   "metadata": {},
   "outputs": [
    {
     "name": "stdout",
     "output_type": "stream",
     "text": [
      "4983 622 622\n",
      "4983 622 622\n"
     ]
    }
   ],
   "source": [
    "seed = 1\n",
    "X0=X0.values\n",
    "train_idx, valid_idx, test_idx = random_split(df,random_state=seed)\n",
    "train_idx = [i for i in train_idx if i < len(df)]\n",
    "valid_idx = [i for i in valid_idx if i < len(df)]\t\n",
    "test_idx = [i for i in test_idx if i < len(df)]\t\n",
    "print(len(train_idx), len(valid_idx), len(test_idx)) \n",
    "X = X0[train_idx]; y = Y0[train_idx]\n",
    "X_valid = X0[valid_idx];y_valid = Y0[valid_idx]\n",
    "X_test = X0[test_idx]; y_test = Y0[test_idx] "
   ]
  },
  {
   "cell_type": "code",
   "execution_count": 28,
   "metadata": {},
   "outputs": [
    {
     "name": "stdout",
     "output_type": "stream",
     "text": [
      "fit time is: 491.01512122154236\n"
     ]
    }
   ],
   "source": [
    "clf=xgboost.XGBRegressor(**use_param)\n",
    "#clf=xgboost.XGBRegressor(**best_param['params'])\n",
    "time1=time.time()\n",
    "model=clf.fit(X, y)\n",
    "time2=time.time()\n",
    "time_fit=time2-time1\n",
    "print(f\"fit time is: {time_fit}\")"
   ]
  },
  {
   "cell_type": "code",
   "execution_count": 29,
   "metadata": {},
   "outputs": [],
   "source": [
    "valid_r2 = pearsonr(y_valid, clf.predict(X_valid))[0]**2\n",
    "valid_rmse = rmse(y_valid, clf.predict(X_valid))\n",
    "test_r2 = pearsonr(y_test, clf.predict(X_test))[0]**2\n",
    "test_rmse = rmse(y_test, clf.predict(X_test))"
   ]
  },
  {
   "cell_type": "code",
   "execution_count": 48,
   "metadata": {},
   "outputs": [
    {
     "data": {
      "text/plain": [
       "6227"
      ]
     },
     "execution_count": 48,
     "metadata": {},
     "output_type": "execute_result"
    }
   ],
   "source": [
    "X0=pd.read_csv('Mo_Pu_ma_r.csv')\n",
    "len(X0)"
   ]
  },
  {
   "cell_type": "code",
   "execution_count": 49,
   "metadata": {},
   "outputs": [
    {
     "name": "stdout",
     "output_type": "stream",
     "text": [
      "4983 622 622\n",
      "fit time is: 497.4952654838562\n",
      "results =  {'seed': 1, 'valid_rmse': 0.6667246818171246, 'valid_r2': 0.6573453183120247, 'test_rmse': 0.692634045285413, 'test_r2': 0.6664387248685751, 'time': 497.4952654838562}\n",
      "4983 622 622\n",
      "fit time is: 493.70739579200745\n",
      "results =  {'seed': 2, 'valid_rmse': 0.6678567563963242, 'valid_r2': 0.6607150285266088, 'test_rmse': 0.6590632158659078, 'test_r2': 0.6726734582366762, 'time': 493.70739579200745}\n",
      "4983 622 622\n",
      "fit time is: 496.8907034397125\n",
      "results =  {'seed': 4, 'valid_rmse': 0.6891249862268267, 'valid_r2': 0.6592194729684671, 'test_rmse': 0.68693854387341, 'test_r2': 0.6533429724588469, 'time': 496.8907034397125}\n",
      "4983 622 622\n",
      "fit time is: 501.3080139160156\n",
      "results =  {'seed': 8, 'valid_rmse': 0.6708232507302224, 'valid_r2': 0.6396508358132494, 'test_rmse': 0.6608768849247725, 'test_r2': 0.6916200237761172, 'time': 501.3080139160156}\n",
      "4983 622 622\n",
      "fit time is: 495.37905645370483\n",
      "results =  {'seed': 16, 'valid_rmse': 0.6837498577491549, 'valid_r2': 0.6516671448701165, 'test_rmse': 0.606452318955926, 'test_r2': 0.7051281170190934, 'time': 495.37905645370483}\n",
      "4983 622 622\n",
      "fit time is: 504.931768655777\n",
      "results =  {'seed': 32, 'valid_rmse': 0.6837140354272339, 'valid_r2': 0.6348747838817115, 'test_rmse': 0.6685727848779095, 'test_r2': 0.6699678648077341, 'time': 504.931768655777}\n",
      "4983 622 622\n",
      "fit time is: 504.3266291618347\n",
      "results =  {'seed': 64, 'valid_rmse': 0.6427994630801819, 'valid_r2': 0.689568143007879, 'test_rmse': 0.632606877215947, 'test_r2': 0.6957888204819233, 'time': 504.3266291618347}\n",
      "4983 622 622\n",
      "fit time is: 502.55288887023926\n",
      "results =  {'seed': 128, 'valid_rmse': 0.6975900300766156, 'valid_r2': 0.6388821019635919, 'test_rmse': 0.705599115169073, 'test_r2': 0.6252679686241148, 'time': 502.55288887023926}\n",
      "4983 622 622\n",
      "fit time is: 515.6083858013153\n",
      "results =  {'seed': 256, 'valid_rmse': 0.6818094889243043, 'valid_r2': 0.6618976691785396, 'test_rmse': 0.6572940124918956, 'test_r2': 0.6654328241927905, 'time': 515.6083858013153}\n",
      "4983 622 622\n",
      "fit time is: 526.2948384284973\n",
      "results =  {'seed': 512, 'valid_rmse': 0.6872193279594173, 'valid_r2': 0.6545036095239795, 'test_rmse': 0.737984106394094, 'test_r2': 0.6134820777030304, 'time': 526.2948384284973}\n"
     ]
    }
   ],
   "source": [
    "seeds = [1,2,4,8,16,32,64,128,256,512]\n",
    "X0=X0.values\n",
    "for seed in seeds:\n",
    "    train_idx, valid_idx, test_idx = random_split(df,random_state=seed)\n",
    "    train_idx = [i for i in train_idx if i < len(df)]\n",
    "    valid_idx = [i for i in valid_idx if i < len(df)]\t\n",
    "    test_idx = [i for i in test_idx if i < len(df)]\t \n",
    "    X = X0[train_idx]; y = Y0[train_idx]\n",
    "    X_valid = X0[valid_idx];y_valid = Y0[valid_idx]\n",
    "    X_test = X0[test_idx]; y_test = Y0[test_idx]\n",
    "    clf=''\n",
    "    clf=xgboost.XGBRegressor(**use_param)\n",
    "    time1=time.time()\n",
    "    model=clf.fit(X, y)\n",
    "    time2=time.time()\n",
    "    time_fit=time2-time1\n",
    "    print(f\"fit time is: {time_fit}\")\n",
    "    valid_r2 = pearsonr(y_valid, clf.predict(X_valid))[0]**2\n",
    "    valid_rmse = rmse(y_valid, clf.predict(X_valid))\n",
    "    test_r2 = pearsonr(y_test, clf.predict(X_test))[0]**2\n",
    "    test_rmse = rmse(y_test, clf.predict(X_test))\n",
    "    results = {\"seed\":seed, 'valid_rmse':valid_rmse,\n",
    "    'valid_r2':valid_r2,\"test_rmse\":test_rmse, \"test_r2\": test_r2,\"time\":time_fit}\n",
    "    print('results = ',results)"
   ]
  },
  {
   "cell_type": "markdown",
   "metadata": {},
   "source": [
    "# Pu_Ma"
   ]
  },
  {
   "cell_type": "code",
   "execution_count": 31,
   "metadata": {},
   "outputs": [
    {
     "data": {
      "text/plain": [
       "6227"
      ]
     },
     "execution_count": 31,
     "metadata": {},
     "output_type": "execute_result"
    }
   ],
   "source": [
    "X0=pd.read_csv('Pu_ma_r.csv')\n",
    "len(X0)"
   ]
  },
  {
   "cell_type": "code",
   "execution_count": 32,
   "metadata": {},
   "outputs": [],
   "source": [
    "def random_split(df, random_state, split_size = [0.8, 0.1, 0.1]):\n",
    "\tbase_indices = np.arange(len(df)) \n",
    "\tbase_indices = shuffle(base_indices, random_state = random_state) \n",
    "\tnb_test = int(len(base_indices) * split_size[2]) \n",
    "\tnb_val = int(len(base_indices) * split_size[1]) \n",
    "\ttest_idx = base_indices[0:nb_test] \n",
    "\tvalid_idx = base_indices[(nb_test):(nb_test+nb_val)] \n",
    "\ttrain_idx = base_indices[(nb_test+nb_val):len(base_indices)] \n",
    "\tprint(len(train_idx), len(valid_idx), len(test_idx)) \n",
    "\treturn train_idx, valid_idx, test_idx "
   ]
  },
  {
   "cell_type": "code",
   "execution_count": 33,
   "metadata": {},
   "outputs": [
    {
     "name": "stdout",
     "output_type": "stream",
     "text": [
      "4983 622 622\n",
      "4983 622 622\n"
     ]
    }
   ],
   "source": [
    "seed = 1\n",
    "X0=X0.values\n",
    "train_idx, valid_idx, test_idx = random_split(df,random_state=seed)\n",
    "train_idx = [i for i in train_idx if i < len(df)]\n",
    "valid_idx = [i for i in valid_idx if i < len(df)]\t\n",
    "test_idx = [i for i in test_idx if i < len(df)]\t\n",
    "print(len(train_idx), len(valid_idx), len(test_idx)) \n",
    "X = X0[train_idx]; y = Y0[train_idx]\n",
    "X_valid = X0[valid_idx];y_valid = Y0[valid_idx]\n",
    "X_test = X0[test_idx]; y_test = Y0[test_idx] "
   ]
  },
  {
   "cell_type": "code",
   "execution_count": 34,
   "metadata": {},
   "outputs": [
    {
     "name": "stdout",
     "output_type": "stream",
     "text": [
      "fit time is: 150.3189480304718\n"
     ]
    }
   ],
   "source": [
    "clf=xgboost.XGBRegressor(**use_param)\n",
    "#clf=xgboost.XGBRegressor(**best_param['params'])\n",
    "time1=time.time()\n",
    "model=clf.fit(X, y)\n",
    "time2=time.time()\n",
    "time_fit=time2-time1\n",
    "print(f\"fit time is: {time_fit}\")"
   ]
  },
  {
   "cell_type": "code",
   "execution_count": 35,
   "metadata": {},
   "outputs": [],
   "source": [
    "valid_r2 = pearsonr(y_valid, clf.predict(X_valid))[0]**2\n",
    "valid_rmse = rmse(y_valid, clf.predict(X_valid))\n",
    "test_r2 = pearsonr(y_test, clf.predict(X_test))[0]**2\n",
    "test_rmse = rmse(y_test, clf.predict(X_test))"
   ]
  },
  {
   "cell_type": "code",
   "execution_count": 36,
   "metadata": {},
   "outputs": [
    {
     "name": "stdout",
     "output_type": "stream",
     "text": [
      "results =  {'seed': 1, 'valid_rmse': 0.6985504138985598, 'valid_r2': 0.626711782068792, 'test_rmse': 0.7485138593968138, 'test_r2': 0.6117082047411144, 'time': 150.3189480304718}\n"
     ]
    }
   ],
   "source": [
    "results = {\"seed\":seed, 'valid_rmse':valid_rmse,\n",
    "'valid_r2':valid_r2,\"test_rmse\":test_rmse, \"test_r2\": test_r2,\"time\":time_fit}\n",
    "print('results = ',results)"
   ]
  },
  {
   "cell_type": "code",
   "execution_count": 50,
   "metadata": {},
   "outputs": [
    {
     "data": {
      "text/plain": [
       "6227"
      ]
     },
     "execution_count": 50,
     "metadata": {},
     "output_type": "execute_result"
    }
   ],
   "source": [
    "X0=pd.read_csv('Pu_ma_r.csv')\n",
    "len(X0)"
   ]
  },
  {
   "cell_type": "code",
   "execution_count": 51,
   "metadata": {},
   "outputs": [
    {
     "name": "stdout",
     "output_type": "stream",
     "text": [
      "4983 622 622\n",
      "fit time is: 151.6936957836151\n",
      "results =  {'seed': 1, 'valid_rmse': 0.6985504138985598, 'valid_r2': 0.626711782068792, 'test_rmse': 0.7485138593968138, 'test_r2': 0.6117082047411144, 'time': 151.6936957836151}\n",
      "4983 622 622\n",
      "fit time is: 174.0218939781189\n",
      "results =  {'seed': 2, 'valid_rmse': 0.7020107346011382, 'valid_r2': 0.6259067753111449, 'test_rmse': 0.7007953515109926, 'test_r2': 0.6326316300747151, 'time': 174.0218939781189}\n",
      "4983 622 622\n",
      "fit time is: 162.60093021392822\n",
      "results =  {'seed': 4, 'valid_rmse': 0.7174314869231403, 'valid_r2': 0.6300475882171156, 'test_rmse': 0.7293910183876001, 'test_r2': 0.6099713981820866, 'time': 162.60093021392822}\n",
      "4983 622 622\n",
      "fit time is: 158.28595852851868\n",
      "results =  {'seed': 8, 'valid_rmse': 0.7162957922034536, 'valid_r2': 0.591351035366535, 'test_rmse': 0.7093725494992837, 'test_r2': 0.6475090409073956, 'time': 158.28595852851868}\n",
      "4983 622 622\n",
      "fit time is: 158.29596209526062\n",
      "results =  {'seed': 16, 'valid_rmse': 0.7253224630570546, 'valid_r2': 0.6106066253126158, 'test_rmse': 0.6440723196768112, 'test_r2': 0.6663554733399677, 'time': 158.29596209526062}\n",
      "4983 622 622\n",
      "fit time is: 164.7825572490692\n",
      "results =  {'seed': 32, 'valid_rmse': 0.7457782875686104, 'valid_r2': 0.5728630888021014, 'test_rmse': 0.7131064797505624, 'test_r2': 0.6287615550685872, 'time': 164.7825572490692}\n",
      "4983 622 622\n",
      "fit time is: 162.99327683448792\n",
      "results =  {'seed': 64, 'valid_rmse': 0.7070928609876255, 'valid_r2': 0.6280366767728726, 'test_rmse': 0.6734126773640053, 'test_r2': 0.6559855436646852, 'time': 162.99327683448792}\n",
      "4983 622 622\n",
      "fit time is: 165.34768986701965\n",
      "results =  {'seed': 128, 'valid_rmse': 0.7453477016688498, 'valid_r2': 0.594282856701195, 'test_rmse': 0.7553554387276089, 'test_r2': 0.5722801779922627, 'time': 165.34768986701965}\n",
      "4983 622 622\n",
      "fit time is: 169.9636833667755\n",
      "results =  {'seed': 256, 'valid_rmse': 0.7200894112606444, 'valid_r2': 0.6253492019131973, 'test_rmse': 0.7061861274950149, 'test_r2': 0.6156641090305867, 'time': 169.9636833667755}\n",
      "4983 622 622\n",
      "fit time is: 169.48291182518005\n",
      "results =  {'seed': 512, 'valid_rmse': 0.7151177312291666, 'valid_r2': 0.6286466388839856, 'test_rmse': 0.801763989351607, 'test_r2': 0.5479451261837622, 'time': 169.48291182518005}\n"
     ]
    }
   ],
   "source": [
    "seeds = [1,2,4,8,16,32,64,128,256,512]\n",
    "X0=X0.values\n",
    "for seed in seeds:\n",
    "    train_idx, valid_idx, test_idx = random_split(df,random_state=seed)\n",
    "    train_idx = [i for i in train_idx if i < len(df)]\n",
    "    valid_idx = [i for i in valid_idx if i < len(df)]\t\n",
    "    test_idx = [i for i in test_idx if i < len(df)]\t \n",
    "    X = X0[train_idx]; y = Y0[train_idx]\n",
    "    X_valid = X0[valid_idx];y_valid = Y0[valid_idx]\n",
    "    X_test = X0[test_idx]; y_test = Y0[test_idx]\n",
    "    clf=''\n",
    "    clf=xgboost.XGBRegressor(**use_param)\n",
    "    time1=time.time()\n",
    "    model=clf.fit(X, y)\n",
    "    time2=time.time()\n",
    "    time_fit=time2-time1\n",
    "    print(f\"fit time is: {time_fit}\")\n",
    "    valid_r2 = pearsonr(y_valid, clf.predict(X_valid))[0]**2\n",
    "    valid_rmse = rmse(y_valid, clf.predict(X_valid))\n",
    "    test_r2 = pearsonr(y_test, clf.predict(X_test))[0]**2\n",
    "    test_rmse = rmse(y_test, clf.predict(X_test))\n",
    "    results = {\"seed\":seed, 'valid_rmse':valid_rmse,\n",
    "    'valid_r2':valid_r2,\"test_rmse\":test_rmse, \"test_r2\": test_r2,\"time\":time_fit}\n",
    "    print('results = ',results)"
   ]
  },
  {
   "cell_type": "code",
   "execution_count": null,
   "metadata": {},
   "outputs": [],
   "source": []
  }
 ],
 "metadata": {
  "kernelspec": {
   "display_name": "Python 3",
   "language": "python",
   "name": "python3"
  },
  "language_info": {
   "codemirror_mode": {
    "name": "ipython",
    "version": 3
   },
   "file_extension": ".py",
   "mimetype": "text/x-python",
   "name": "python",
   "nbconvert_exporter": "python",
   "pygments_lexer": "ipython3",
   "version": "3.7.1"
  }
 },
 "nbformat": 4,
 "nbformat_minor": 2
}
